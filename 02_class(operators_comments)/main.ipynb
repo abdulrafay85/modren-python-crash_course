{
 "cells": [
  {
   "cell_type": "markdown",
   "metadata": {},
   "source": [
    "### Python divides the operators in the following groups:\n",
    "\n",
    "* Arithmetic operators\n",
    "* Assignment operators\n",
    "* Comparison operators\n",
    "* Logical operators\n",
    "* Identity operators\n",
    "* Membership operators\n",
    "* Bitwise operators\n"
   ]
  },
  {
   "cell_type": "code",
   "execution_count": null,
   "metadata": {},
   "outputs": [],
   "source": [
    "## -- install lxml package\n",
    "\n",
    "# !conda install lxml -y"
   ]
  },
  {
   "cell_type": "code",
   "execution_count": null,
   "metadata": {},
   "outputs": [],
   "source": [
    " # !pip install pandas\n",
    "import pandas as pd\n",
    "\n",
    "table = pd.read_html('https://www.w3schools.com/python/python_operators.asp')\n",
    "table[1]"
   ]
  },
  {
   "cell_type": "markdown",
   "metadata": {},
   "source": [
    "## Arithmetic Operators"
   ]
  },
  {
   "cell_type": "code",
   "execution_count": 3,
   "metadata": {},
   "outputs": [
    {
     "name": "stdout",
     "output_type": "stream",
     "text": [
      "16\n",
      "2\n",
      "63\n",
      "1.2857142857142858\n",
      "2\n",
      "4782969\n",
      "1\n"
     ]
    }
   ],
   "source": [
    "a : int = 9 \n",
    "b : int = 7\n",
    "\n",
    "print(a + b) # Addition\n",
    "print(a - b) # Subtraction\n",
    "print(a * b) # Multiplication\n",
    "print(a / b) # Division\n",
    "print(a % b) # Modulus\t\n",
    "print(a ** b) # Exponentiation\t\n",
    "print(a // b) # Floor division\t"
   ]
  },
  {
   "cell_type": "markdown",
   "metadata": {},
   "source": [
    "## Assignment Operators"
   ]
  },
  {
   "cell_type": "code",
   "execution_count": null,
   "metadata": {},
   "outputs": [],
   "source": [
    "a : int = 9 \n",
    "\n",
    "# a = a + 2\n",
    "a += 2\n",
    "print(a)"
   ]
  },
  {
   "cell_type": "code",
   "execution_count": null,
   "metadata": {},
   "outputs": [],
   "source": [
    "a : int = 9 \n",
    "\n",
    "# a = a - 2\n",
    "a -= 2\n",
    "print(a)"
   ]
  },
  {
   "cell_type": "code",
   "execution_count": null,
   "metadata": {},
   "outputs": [],
   "source": [
    "a : int = 9 \n",
    "\n",
    "# a = a * 2\n",
    "a *= 2\n",
    "print(a)"
   ]
  },
  {
   "cell_type": "code",
   "execution_count": null,
   "metadata": {},
   "outputs": [],
   "source": [
    "a : int = 9 \n",
    "\n",
    "# a = a / 2\n",
    "a /= 2\n",
    "print(a)"
   ]
  },
  {
   "cell_type": "markdown",
   "metadata": {},
   "source": [
    "## Comparison Operators"
   ]
  },
  {
   "cell_type": "code",
   "execution_count": null,
   "metadata": {},
   "outputs": [],
   "source": [
    "table[2]"
   ]
  },
  {
   "cell_type": "code",
   "execution_count": 4,
   "metadata": {},
   "outputs": [
    {
     "name": "stdout",
     "output_type": "stream",
     "text": [
      "False\n"
     ]
    }
   ],
   "source": [
    "# Equal\n",
    "\n",
    "# a : int = 9\n",
    "# b : int = 9\n",
    "\n",
    "# print(a == b) # true \n",
    "\n",
    "# ---------------\n",
    "\n",
    "a : int = 9\n",
    "b : int = '9'\n",
    "\n",
    "print(a == b) # false \n"
   ]
  },
  {
   "cell_type": "code",
   "execution_count": 5,
   "metadata": {},
   "outputs": [
    {
     "name": "stdout",
     "output_type": "stream",
     "text": [
      "True\n"
     ]
    }
   ],
   "source": [
    "# Not equal\n",
    "\n",
    "a : int = 9\n",
    "b : int = 2\n",
    "\n",
    "print(a != b) \n"
   ]
  },
  {
   "cell_type": "code",
   "execution_count": null,
   "metadata": {},
   "outputs": [],
   "source": [
    "# Greater than\tx > y\t\n",
    "\n",
    "a : int = 9\n",
    "b : int = 2\n",
    "\n",
    "print(a > b) \n"
   ]
  },
  {
   "cell_type": "code",
   "execution_count": null,
   "metadata": {},
   "outputs": [],
   "source": [
    "# Less than\tx < y\t\n",
    "\n",
    "a : int = 9\n",
    "b : int = 2\n",
    "\n",
    "print(a < b) \n"
   ]
  },
  {
   "cell_type": "code",
   "execution_count": 1,
   "metadata": {},
   "outputs": [
    {
     "name": "stdout",
     "output_type": "stream",
     "text": [
      "True\n"
     ]
    }
   ],
   "source": [
    "# Greater than or equal to\tx >= y\n",
    "\n",
    "a : int = 9\n",
    "b : int = 2\n",
    "\n",
    "print(a >= b) \n"
   ]
  },
  {
   "cell_type": "code",
   "execution_count": 2,
   "metadata": {},
   "outputs": [
    {
     "name": "stdout",
     "output_type": "stream",
     "text": [
      "False\n"
     ]
    }
   ],
   "source": [
    "# Less than or equal to\tx <= y\n",
    "\n",
    "a : int = 9\n",
    "b : int = 2\n",
    "\n",
    "print(a <= b) \n"
   ]
  },
  {
   "cell_type": "markdown",
   "metadata": {},
   "source": [
    "### ord() "
   ]
  },
  {
   "cell_type": "code",
   "execution_count": 8,
   "metadata": {},
   "outputs": [
    {
     "name": "stdout",
     "output_type": "stream",
     "text": [
      "65\n"
     ]
    }
   ],
   "source": [
    "# Character to ASCII\n",
    "# function ka kaam hai kisi bhi single character ko uske ASCII code mein convert karna. ASCII code ek number hota hai jo har character ko represent karta hai.\n",
    "\n",
    "ascii_value = ord('a')  # Ye 66 return karega\n",
    "print(ascii_value)\n"
   ]
  },
  {
   "cell_type": "markdown",
   "metadata": {},
   "source": [
    "### chr()"
   ]
  },
  {
   "cell_type": "code",
   "execution_count": null,
   "metadata": {},
   "outputs": [],
   "source": [
    "# chr() function ka kaam hai kisi bhi integer (jo ASCII code ho) ko uske corresponding character mein convert karna.\n",
    "# ASCII to Character\n",
    "\n",
    "character = chr(66)  # Ye 'B' return karega\n",
    "print(character)"
   ]
  },
  {
   "cell_type": "code",
   "execution_count": null,
   "metadata": {},
   "outputs": [],
   "source": [
    "a : str = 'A'\n",
    "b : str = 'a'\n",
    "\n",
    "print(ord(a))\n",
    "print(ord(b))\n",
    "print(a < b) # true"
   ]
  },
  {
   "cell_type": "markdown",
   "metadata": {},
   "source": [
    "### Logical Operators"
   ]
  },
  {
   "cell_type": "markdown",
   "metadata": {},
   "source": [
    "### and   لازمی"
   ]
  },
  {
   "cell_type": "code",
   "execution_count": null,
   "metadata": {},
   "outputs": [],
   "source": [
    "False and False \n",
    "# False and True \n",
    "# True and False  \n",
    "# True and True \n"
   ]
  },
  {
   "cell_type": "markdown",
   "metadata": {},
   "source": [
    "##  or optional"
   ]
  },
  {
   "cell_type": "code",
   "execution_count": null,
   "metadata": {},
   "outputs": [],
   "source": [
    "False or False \n",
    "# False or True \n",
    "# True or False  \n",
    "# True or True \n"
   ]
  },
  {
   "cell_type": "markdown",
   "metadata": {},
   "source": [
    "### Not"
   ]
  },
  {
   "cell_type": "code",
   "execution_count": null,
   "metadata": {},
   "outputs": [],
   "source": [
    "name : str = \"Irsham\"\n",
    "print(not name==\"Irsham\") # False"
   ]
  },
  {
   "cell_type": "markdown",
   "metadata": {},
   "source": [
    "### Identity Operators"
   ]
  },
  {
   "cell_type": "markdown",
   "metadata": {},
   "source": [
    "is operator memory address ko compare karta hay yani physical address"
   ]
  },
  {
   "cell_type": "code",
   "execution_count": 3,
   "metadata": {},
   "outputs": [
    {
     "name": "stdout",
     "output_type": "stream",
     "text": [
      "140732434027672\n",
      "2353796959712\n"
     ]
    },
    {
     "data": {
      "text/plain": [
       "False"
      ]
     },
     "execution_count": 3,
     "metadata": {},
     "output_type": "execute_result"
    }
   ],
   "source": [
    " \n",
    "x : str = 'abc'\n",
    "y : int = 'xyz'\n",
    "\n",
    "print(id(x))\n",
    "print(id(y))\n",
    "\n",
    "x is y"
   ]
  },
  {
   "cell_type": "code",
   "execution_count": null,
   "metadata": {},
   "outputs": [],
   "source": [
    "x : str = 'abc'\n",
    "y : int = 'xyz'\n",
    "\n",
    "print(id(x))\n",
    "print(id(y))\n",
    "\n",
    "x is not y"
   ]
  },
  {
   "cell_type": "markdown",
   "metadata": {},
   "source": [
    "### Membership Operators"
   ]
  },
  {
   "cell_type": "code",
   "execution_count": 4,
   "metadata": {},
   "outputs": [
    {
     "name": "stdout",
     "output_type": "stream",
     "text": [
      "0 ['A', 'B', 'C', 'D', 'E', 'F', 'G', 'H', 'I', 'J', 'K', 'L', 'M', 'N', 'O', 'P', 'Q', 'R', 'S', 'T', 'U', 'V', 'W', 'X', 'Y', 'Z', '[', '\\\\', ']', '^', '_', '`', 'a', 'b']\n",
      "1 ['A', 'B', 'C', 'D', 'E', 'F', 'G', 'H', 'I', 'J', 'K', 'L', 'M', 'N', 'O', 'P', 'Q', 'R', 'S', 'T', 'U', 'V', 'W', 'X', 'Y', 'Z', '[', '\\\\', ']', '^', '_', '`', 'a', 'b']\n",
      "2 ['A', 'B', 'C', 'D', 'E', 'F', 'G', 'H', 'I', 'J', 'K', 'L', 'M', 'N', 'O', 'P', 'Q', 'R', 'S', 'T', 'U', 'V', 'W', 'X', 'Y', 'Z', '[', '\\\\', ']', '^', '_', '`', 'a', 'b']\n",
      "3 ['A', 'B', 'C', 'D', 'E', 'F', 'G', 'H', 'I', 'J', 'K', 'L', 'M', 'N', 'O', 'P', 'Q', 'R', 'S', 'T', 'U', 'V', 'W', 'X', 'Y', 'Z', '[', '\\\\', ']', '^', '_', '`', 'a', 'b']\n",
      "True\n"
     ]
    }
   ],
   "source": [
    "name : list[str] = [chr(i) for i in range(65,99)]\n",
    "\n",
    "for i  in range(len(name)):\n",
    "    print(i, name)\n",
    "    if name[i] == \"D\":\n",
    "        print(\"True\")\n",
    "        break\n",
    "    "
   ]
  },
  {
   "cell_type": "markdown",
   "metadata": {},
   "source": [
    " Yeh check karta hai ke kya character 'D' name list mein mojood hai ya nahi.\n",
    " Agar 'D' list mein hai, toh True return karega, warna False.\n"
   ]
  },
  {
   "cell_type": "code",
   "execution_count": 5,
   "metadata": {},
   "outputs": [
    {
     "data": {
      "text/plain": [
       "True"
      ]
     },
     "execution_count": 5,
     "metadata": {},
     "output_type": "execute_result"
    }
   ],
   "source": [
    "\n",
    "\n",
    "name : list[str] = [chr(i) for i in range(65,99)]\n",
    "\n",
    "\"D\" in name"
   ]
  },
  {
   "cell_type": "code",
   "execution_count": 8,
   "metadata": {},
   "outputs": [
    {
     "data": {
      "text/plain": [
       "True"
      ]
     },
     "execution_count": 8,
     "metadata": {},
     "output_type": "execute_result"
    }
   ],
   "source": [
    "\n",
    "names : list[str] = ['zia', 'qasim', 'hamzah']\n",
    "uInput : str = input(\"Enter your name\") # input function runtume par ser se input leta hay \n",
    "uInput not in names\n"
   ]
  },
  {
   "cell_type": "markdown",
   "metadata": {},
   "source": [
    "## PEMDAS"
   ]
  },
  {
   "cell_type": "markdown",
   "metadata": {},
   "source": [
    "Step-by-Step Solution\n",
    "Identify the Operations:\n",
    "\n",
    "Addition (+)\n",
    "Subtraction (-)\n",
    "Multiplication (*)\n",
    "Division (/)\n",
    "Perform Multiplication and Division (from left to right):\n",
    "\n",
    "The multiplication and division operations occur before addition and subtraction.\n",
    "\n",
    "Operation: 2 * 4\n",
    "\n",
    "Calculate: \n",
    "2\n",
    "×\n",
    "4\n",
    "=\n",
    "8\n",
    "2×4=8\n",
    "New Equation:\n",
    "\n",
    "3\n",
    "+\n",
    "2\n",
    "−\n",
    "8\n",
    "/\n",
    "2\n",
    "+\n",
    "2\n",
    "3+2−8/2+2\n",
    "Operation: 8 / 2\n",
    "\n",
    "Calculate: \n",
    "8\n",
    "÷\n",
    "2\n",
    "=\n",
    "4\n",
    "8÷2=4\n",
    "New Equation:\n",
    "\n",
    "3\n",
    "+\n",
    "2\n",
    "−\n",
    "4\n",
    "+\n",
    "2\n",
    "3+2−4+2\n",
    "Perform Addition and Subtraction (from left to right):\n",
    "\n",
    "Now we do the addition and subtraction operations from left to right.\n",
    "\n",
    "Operation: 3 + 2\n",
    "\n",
    "Calculate: \n",
    "3\n",
    "+\n",
    "2\n",
    "=\n",
    "5\n",
    "3+2=5\n",
    "New Equation:\n",
    "\n",
    "5\n",
    "−\n",
    "4\n",
    "+\n",
    "2\n",
    "5−4+2\n",
    "Operation: 5 - 4\n",
    "\n",
    "Calculate: \n",
    "5\n",
    "−\n",
    "4\n",
    "=\n",
    "1\n",
    "5−4=1\n",
    "New Equation:\n",
    "\n",
    "1\n",
    "+\n",
    "2\n",
    "1+2\n",
    "Operation: 1 + 2\n",
    "\n",
    "Calculate: \n",
    "1\n",
    "+\n",
    "2\n",
    "=\n",
    "3\n",
    "1+2=3\n",
    "Final Result\n",
    "The final result of the equation is:\n",
    "\n",
    "3\n",
    "3\n",
    "​\n",
    " \n",
    "So, when you run print(3 + 2 - 2 * 4 / 2 + 2); in Python, it will output 3."
   ]
  },
  {
   "cell_type": "code",
   "execution_count": null,
   "metadata": {},
   "outputs": [],
   "source": [
    "print(3 + 2 - 2 * 4 /2 + 2);"
   ]
  },
  {
   "cell_type": "code",
   "execution_count": null,
   "metadata": {},
   "outputs": [],
   "source": [
    "universe_age : int = 14_000_000_000\n",
    "print(universe_age)"
   ]
  },
  {
   "cell_type": "markdown",
   "metadata": {},
   "source": [
    "## Unzip"
   ]
  },
  {
   "cell_type": "code",
   "execution_count": null,
   "metadata": {},
   "outputs": [],
   "source": [
    "#0  1   2    0   1   2  \n",
    "a , b , c = ('a', 7, 3.0)\n",
    "print(a)\n",
    "print(b)\n",
    "print(c)\n"
   ]
  },
  {
   "cell_type": "code",
   "execution_count": 9,
   "metadata": {},
   "outputs": [
    {
     "name": "stdout",
     "output_type": "stream",
     "text": [
      "1\n",
      "qasim\n",
      "16\n"
     ]
    }
   ],
   "source": [
    "data = (1 , 'qasim', 16)\n",
    "for i in range(len(data)):\n",
    "    print(data[i])\n"
   ]
  },
  {
   "cell_type": "code",
   "execution_count": 12,
   "metadata": {},
   "outputs": [
    {
     "name": "stdout",
     "output_type": "stream",
     "text": [
      "1 qasim 16\n"
     ]
    }
   ],
   "source": [
    "data = (1 , 'qasim', 16)\n",
    "print(*data)"
   ]
  },
  {
   "cell_type": "markdown",
   "metadata": {},
   "source": [
    "### Walrus operator"
   ]
  },
  {
   "cell_type": "markdown",
   "metadata": {},
   "source": [
    "walrus operator ne hume ek veriable expresion ke andar banane diya :="
   ]
  },
  {
   "cell_type": "code",
   "execution_count": null,
   "metadata": {},
   "outputs": [],
   "source": [
    "a : int = 5 "
   ]
  },
  {
   "cell_type": "code",
   "execution_count": null,
   "metadata": {},
   "outputs": [],
   "source": [
    "# if (a < (d = a + 5)):\n",
    "#     print(d) # error"
   ]
  },
  {
   "cell_type": "code",
   "execution_count": null,
   "metadata": {},
   "outputs": [],
   "source": [
    "if (a < (d := a + 5)):\n",
    "    print(d)"
   ]
  },
  {
   "cell_type": "markdown",
   "metadata": {},
   "source": [
    "#### The Zen of Python"
   ]
  },
  {
   "cell_type": "code",
   "execution_count": null,
   "metadata": {},
   "outputs": [],
   "source": [
    "import this"
   ]
  }
 ],
 "metadata": {
  "kernelspec": {
   "display_name": "pyenv",
   "language": "python",
   "name": "python3"
  },
  "language_info": {
   "codemirror_mode": {
    "name": "ipython",
    "version": 3
   },
   "file_extension": ".py",
   "mimetype": "text/x-python",
   "name": "python",
   "nbconvert_exporter": "python",
   "pygments_lexer": "ipython3",
   "version": "3.12.4"
  }
 },
 "nbformat": 4,
 "nbformat_minor": 2
}
