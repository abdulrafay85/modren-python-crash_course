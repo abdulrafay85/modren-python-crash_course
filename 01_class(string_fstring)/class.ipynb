{
 "cells": [
  {
   "cell_type": "markdown",
   "metadata": {},
   "source": [
    "## String Data Type in Python"
   ]
  },
  {
   "cell_type": "code",
   "execution_count": null,
   "metadata": {},
   "outputs": [],
   "source": [
    "# Boundry\n",
    "# ' string text ', \" string text \", ''' string text ''', \"\"\" string text \"\"\"\n",
    "\n",
    "name : str = \"ali\"\n",
    "fName : str = \"khan\"\n",
    "\n",
    "print(name)"
   ]
  },
  {
   "cell_type": "markdown",
   "metadata": {},
   "source": [
    "#### Convert any special charecter into simple charecter, place \\ before charecter"
   ]
  },
  {
   "cell_type": "code",
   "execution_count": null,
   "metadata": {},
   "outputs": [],
   "source": [
    "message: str = 'hello my father\\'s name is '\n",
    "print(message)"
   ]
  },
  {
   "cell_type": "markdown",
   "metadata": {},
   "source": [
    "string ke sath number concatenate nahi hosakta python me number ko string me convert karna pare ga concatenate kare ke liye or agarhum multyline line string likh rahe hen or space ke liye humar ko \\ ka use karna padega agar nahi karto to wo os ko new line con"
   ]
  },
  {
   "cell_type": "code",
   "execution_count": null,
   "metadata": {},
   "outputs": [],
   "source": [
    "name : str = \"Rafay\"\n",
    "fName : str = \"Maqbool\"\n",
    "age : int = 19\n",
    "education : str = \"FSC\"\n",
    "Info : str = \"Student Info\\n\" + \"Name: \" + name +\\\n",
    "\"\\nAge: \" + str(age)\n",
    "print(Info)"
   ]
  },
  {
   "cell_type": "markdown",
   "metadata": {},
   "source": [
    "## Define Multyline String"
   ]
  },
  {
   "cell_type": "code",
   "execution_count": null,
   "metadata": {},
   "outputs": [],
   "source": [
    "name : str = \"Rafay\"\n",
    "fName : str = \"Maqbool\"\n",
    "age : int = 19\n",
    "education : str = \"FSC\"\n",
    "\n",
    "info : str = \"\"\" \n",
    "PIAIC Student Card \n",
    "Student Name : ....\n",
    "Father Name : ....\n",
    " \"\"\"\n",
    "print(info)"
   ]
  },
  {
   "cell_type": "markdown",
   "metadata": {},
   "source": [
    "### Using % Operator (Old-Style String Formatting)"
   ]
  },
  {
   "cell_type": "code",
   "execution_count": null,
   "metadata": {},
   "outputs": [],
   "source": [
    "\n",
    "name : str = \"Rafay\"\n",
    "fName : str = \"Maqbool\"\n",
    "age : int = 19\n",
    "education : str = \"Cloud applide Genrative AI\"\n",
    "\n",
    "info : str = '''\n",
    "PIAIC Student Card \n",
    "Student Name : %s\n",
    "Father Name : %s\n",
    "Student Age : %d\n",
    "Student Education : %s\n",
    " ''' %(name, fName, age, education)\n",
    "print(info)"
   ]
  },
  {
   "cell_type": "markdown",
   "metadata": {},
   "source": [
    "### Using Named Placeholders in str.format()"
   ]
  },
  {
   "cell_type": "code",
   "execution_count": null,
   "metadata": {},
   "outputs": [],
   "source": [
    "name = \"Rafay\"\n",
    "fName = \"Maqbool\"\n",
    "age = 19\n",
    "\n",
    "info = \"PIAIC Student Card\\nStudent Name: {student_name}\\nFather Name: {father_name}\\nStudent Age: {student_age}\".format(student_name=name, father_name=fName, student_age=age)\n",
    "\n",
    "print(info)\n"
   ]
  },
  {
   "cell_type": "markdown",
   "metadata": {},
   "source": [
    "# F-String Python "
   ]
  },
  {
   "cell_type": "code",
   "execution_count": null,
   "metadata": {},
   "outputs": [],
   "source": [
    "name : str = \"Rafay\"\n",
    "fName : str = \"Maqbool\"\n",
    "age : int = 19\n",
    "education : str = \"FSC\"\n",
    "\n",
    "info : str = f\"\"\" \n",
    "PIAIC Student Card \n",
    "Student Name : {name}\n",
    "Father Name : {fName}\n",
    "Student Age : {age}\n",
    " \"\"\"\n",
    "print(info)"
   ]
  },
  {
   "cell_type": "code",
   "execution_count": null,
   "metadata": {},
   "outputs": [],
   "source": [
    "\n",
    "name : str = \"Rafay\"\n",
    "fName : str = \"Maqbool\"\n",
    "age : int = 19\n",
    "education : str = \"FSC\"\n",
    "\n",
    "info : str = f'''\n",
    "PIAIC Student Card \n",
    "Student Name : {name}\n",
    "Father Name : {fName}\n",
    "Student Age : {age}\n",
    " '''\n",
    "print(info)"
   ]
  },
  {
   "cell_type": "code",
   "execution_count": null,
   "metadata": {},
   "outputs": [],
   "source": [
    "# name : str = \"Rafay\"\n",
    "# fName : str = \"Maqbool\"\n",
    "# age : int = 19\n",
    "# education : str = \"FSC\"\n",
    "\n",
    "# info : str = $` \n",
    "# PIAIC Student Card \n",
    "# Student Name : {name}\n",
    "# Father Name : {fName}\n",
    "# Student Age : {age}\n",
    "#  `\n",
    "# print(info) # Error\n",
    "\n"
   ]
  },
  {
   "cell_type": "markdown",
   "metadata": {},
   "source": [
    "## F-String and Jinja Style"
   ]
  },
  {
   "cell_type": "code",
   "execution_count": null,
   "metadata": {},
   "outputs": [],
   "source": [
    "# Jinja Style \n",
    "\"\"\"\n",
    "Name {{name}} \n",
    "\"\"\""
   ]
  },
  {
   "cell_type": "markdown",
   "metadata": {},
   "source": [
    "## String Methods"
   ]
  },
  {
   "cell_type": "code",
   "execution_count": null,
   "metadata": {},
   "outputs": [],
   "source": [
    "name : str = \"ShaYaN\"\n",
    "print(name.capitalize()) \n",
    "print(name.upper()) \n",
    "print(name.lower())"
   ]
  },
  {
   "cell_type": "code",
   "execution_count": null,
   "metadata": {},
   "outputs": [],
   "source": [
    "# # Syntax 1\n",
    "# x : int = 8\n",
    "# y : int = 21\n",
    "\n",
    "# # {} place holder  \n",
    "# # index        0                    1          0  1\n",
    "# \"value of a = { } and value of b = { }\".format(x, y)\n",
    "\n",
    "# Syntax 2\n",
    "\"value of a = {a} and value of b = {b}\".format(a = 1, b = 4)"
   ]
  },
  {
   "cell_type": "code",
   "execution_count": null,
   "metadata": {},
   "outputs": [],
   "source": [
    "\n",
    "name : str = \"Rafay\"\n",
    "fName : str = \"Maqbool\"\n",
    "age : int = 19\n",
    "education : str = \"FSC\"\n",
    "\n",
    "info : str = '''\n",
    "PIAIC Student Card \n",
    "Student Name : {0}\n",
    "Father Name : {1}\n",
    "Student Age : {3}\n",
    "Student Education : {2}\n",
    " '''.format(name, fName, education, age)\n",
    " #           0      1         2      3 \n",
    "print(info)"
   ]
  },
  {
   "cell_type": "code",
   "execution_count": null,
   "metadata": {},
   "outputs": [],
   "source": [
    "\n",
    "name : str = \"Rafay\"\n",
    "fName : str = \"Maqbool\"\n",
    "age : int = 19\n",
    "education : str = \"FSC\"\n",
    "\n",
    "info : str = '''\n",
    "PIAIC Student Card \n",
    "Student Name : {a}\n",
    "Father Name : {b}\n",
    "Student Age : {c}\n",
    "Student Education : {d}\n",
    " '''.format(a=name, b=fName, c=education, d=age)\n",
    " \n",
    "print(info)"
   ]
  },
  {
   "cell_type": "code",
   "execution_count": null,
   "metadata": {},
   "outputs": [],
   "source": [
    "student_code : str = \"\"\"\n",
    "\n",
    "print(\"My Name is Muhammad Qasim\");\n",
    "a:int = 6\n",
    "b: int = 8\n",
    "\n",
    "print(a + b);\n",
    "\n",
    "\"\"\"\n",
    "exec(student_code)"
   ]
  },
  {
   "cell_type": "markdown",
   "metadata": {},
   "source": [
    "### Explore String methods and attributes\n",
    "\n",
    "Pre-define global | function we have used\n",
    "* print\n",
    "* type\n",
    "* id\n",
    "* dir \n",
    "* len"
   ]
  },
  {
   "cell_type": "code",
   "execution_count": 1,
   "metadata": {},
   "outputs": [
    {
     "data": {
      "text/plain": [
       "'muhammad qasim'"
      ]
     },
     "metadata": {},
     "output_type": "display_data"
    }
   ],
   "source": [
    "name : str = \"MUhammAd QasIm\"\n",
    "display(name.casefold())"
   ]
  },
  {
   "cell_type": "code",
   "execution_count": 2,
   "metadata": {},
   "outputs": [
    {
     "data": {
      "text/plain": [
       "'MUhammAd QasIm      '"
      ]
     },
     "metadata": {},
     "output_type": "display_data"
    },
    {
     "data": {
      "text/plain": [
       "'    MUhammAd QasIm'"
      ]
     },
     "metadata": {},
     "output_type": "display_data"
    },
    {
     "data": {
      "text/plain": [
       "'MUhammAd QasIm'"
      ]
     },
     "metadata": {},
     "output_type": "display_data"
    }
   ],
   "source": [
    "name : str = \"    MUhammAd QasIm      \"\n",
    "display(name.lstrip())\n",
    "display(name.rstrip())\n",
    "display(name.strip())"
   ]
  },
  {
   "cell_type": "code",
   "execution_count": 3,
   "metadata": {},
   "outputs": [
    {
     "name": "stdout",
     "output_type": "stream",
     "text": [
      "    MUhammAd   QasIm      \n"
     ]
    },
    {
     "data": {
      "text/plain": [
       "'Muhammad qasim'"
      ]
     },
     "metadata": {},
     "output_type": "display_data"
    },
    {
     "name": "stdout",
     "output_type": "stream",
     "text": [
      "Muhammad qasim\n"
     ]
    }
   ],
   "source": [
    "import re \n",
    "\n",
    "name : str = \"    MUhammAd   QasIm      \"\n",
    "\n",
    "print(name)\n",
    "\n",
    "\n",
    "name1 : str = (re.sub(' {2,100}',' ',name).strip()).capitalize()\n",
    "\n",
    "display(name1)\n",
    "print(name1)\n"
   ]
  }
 ],
 "metadata": {
  "kernelspec": {
   "display_name": "base",
   "language": "python",
   "name": "python3"
  },
  "language_info": {
   "codemirror_mode": {
    "name": "ipython",
    "version": 3
   },
   "file_extension": ".py",
   "mimetype": "text/x-python",
   "name": "python",
   "nbconvert_exporter": "python",
   "pygments_lexer": "ipython3",
   "version": "3.12.4"
  }
 },
 "nbformat": 4,
 "nbformat_minor": 2
}
