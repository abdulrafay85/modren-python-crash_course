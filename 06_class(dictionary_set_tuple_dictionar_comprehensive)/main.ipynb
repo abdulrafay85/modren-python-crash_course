{
 "cells": [
  {
   "cell_type": "markdown",
   "metadata": {},
   "source": [
    "### Dictionary\n",
    "\n",
    "* Python mein dictionary ko {} curly braces ke zariye define kiya jata hai aur key-value pairs ko : colon ke saath likha jata hai. \n",
    "* Har key-value pair ko , comma se separate kiya jata hai.\n",
    "\n",
    "```\n",
    "my_dict = {\n",
    "    'key1': 'value1',\n",
    "    'key2': 'value2',\n",
    "    'key3': 'value3'\n",
    "}\n",
    "\n",
    "```\n",
    "\n",
    "* key : value (item)\n",
    "    * key replacement of indexes\n",
    "    * value item\n",
    "\n",
    "* dict_variable[key]\n",
    "    * dict_variable[new_key] = new_value\n",
    "        * add new value\n",
    "        * update value"
   ]
  },
  {
   "cell_type": "code",
   "execution_count": null,
   "metadata": {},
   "outputs": [],
   "source": [
    "# List\n",
    "#                           0                 1           2\n",
    "data : list[str] = [\"Muhammad Arslan\", \"Muhammad Qasim\", \"MSDS\"]\n"
   ]
  },
  {
   "cell_type": "markdown",
   "metadata": {},
   "source": [
    "### Set\n",
    "* Python mein set ek aisi data structure hoti hai jo unordered collection hoti hai unique elements ki. Sets kisi bhi duplicate element ko store nahi karte, yani agar koi value set mein pehle se maujood hai, to wo dubara add nahi hoti. \n",
    "\n",
    "* Sets ka use hota hai jab aapko kisi collection mein unique values chahiyein aur order ki koi zaroorat nahi hoti."
   ]
  },
  {
   "cell_type": "code",
   "execution_count": null,
   "metadata": {},
   "outputs": [],
   "source": [
    "[i for i in dir(data) if \"__\" not in i]"
   ]
  },
  {
   "cell_type": "code",
   "execution_count": null,
   "metadata": {},
   "outputs": [],
   "source": [
    "data :  set = {7,6,5,3,4,1,7,8,1,3,2,4,5,6,7}\n",
    "print(data)"
   ]
  },
  {
   "cell_type": "code",
   "execution_count": null,
   "metadata": {},
   "outputs": [],
   "source": [
    "from typing import Dict\n",
    "import pprint\n",
    "\n",
    "data : Dict[str, str] = {\n",
    "                         1:\"Muhammad Aslan\", \n",
    "                         \"name\":\"Muhammad Qasim\", \n",
    "                         \"education\":\"MSDS\"\n",
    "                         }\n",
    "\n",
    "pprint.pprint(data)"
   ]
  },
  {
   "cell_type": "code",
   "execution_count": null,
   "metadata": {},
   "outputs": [],
   "source": [
    "from typing import Dict, Union\n",
    "\n",
    "\n",
    "Key = Union[int, str]  # create custom type\n",
    "Value = Union[int, str, list, dict, tuple]\n",
    "\n",
    "import pprint\n",
    "data : Dict[Key, Value] = {\n",
    "                         \"fName\":\"Muhammad Aslan\", \n",
    "                         \"name\":\"Muhammad Qasim\", \n",
    "                         \"education\":\"MSDS\"\n",
    "                         }\n",
    "\n",
    "pprint.pprint(data)"
   ]
  },
  {
   "cell_type": "code",
   "execution_count": null,
   "metadata": {},
   "outputs": [],
   "source": [
    "from typing import Dict, Union\n",
    "\n",
    "\n",
    "Key = Union[int, str]  # create custom type\n",
    "Value = Union[int, str, list, dict, tuple]\n",
    "\n",
    "import pprint\n",
    "data : Dict[Key, Value] = {\n",
    "                         \"fName\":\"Muhammad Aslan\", \n",
    "                         \"name\":\"Muhammad Qasim\", \n",
    "                         \"education\":\"MSDS\",\n",
    "                         100: 'pakistan'\n",
    "                         }\n",
    "\n",
    "pprint.pprint(data)\n",
    "pprint.pprint(data[\"name\"])\n",
    "pprint.pprint(data[\"fName\"])\n",
    "pprint.pprint(data[\"education\"])\n",
    "pprint.pprint(data[100])\n",
    "\n"
   ]
  },
  {
   "cell_type": "code",
   "execution_count": null,
   "metadata": {},
   "outputs": [],
   "source": [
    "from typing import Dict, Union\n",
    "\n",
    "\n",
    "Key = Union[int, str]  # create custom type\n",
    "Value = Union[int, str, list, dict, tuple]\n",
    "\n",
    "data : Dict[Key, Value] = {\n",
    "                         \"fName\":\"Muhammad Aslan\", \n",
    "                         \"name\":\"Muhammad Qasim\", \n",
    "                         \"education\":\"MSDS\",\n",
    "                         \"country\": 'pakistan'\n",
    "                         }\n",
    "\n",
    "print(data)\n"
   ]
  },
  {
   "cell_type": "code",
   "execution_count": null,
   "metadata": {},
   "outputs": [],
   "source": [
    "data_base :list[tuple[str, str]] = [('irsham', '123'), ('qasim', '456'), ('ahmed', '789')]\n",
    "\n",
    "name : str = input(\"enter your name \")\n",
    "password : str = input(\"enter password\")\n",
    "\n",
    "\n",
    "for user in data_base:\n",
    "    data_base_name, data_base_password = user\n",
    "    \n",
    "    if data_base_name == name and password == data_base_password:\n",
    "        print(\"valide user\")\n",
    "        break\n",
    "    else:\n",
    "        print(\"invalide user\")"
   ]
  },
  {
   "cell_type": "code",
   "execution_count": null,
   "metadata": {},
   "outputs": [],
   "source": [
    "data_base: list[tuple[str, str]] = [('irsham', '123'), ('qasim', '456'), ('ahmed', '789')]\n",
    "\n",
    "name: str = input(\"Enter your name: \")\n",
    "password: str = input(\"Enter password: \")\n",
    "\n",
    "# Variable to track if the user is valid\n",
    "is_valid_user = False\n",
    "\n",
    "# Loop through each user in the database\n",
    "for user in data_base:\n",
    "    data_base_name, data_base_password = user\n",
    "\n",
    "    # Check if the entered name and password match\n",
    "    if data_base_name == name and password == data_base_password:\n",
    "        print(\"Valid user\")\n",
    "        is_valid_user = True\n",
    "        break\n",
    "\n",
    "# If no match is found after checking all users\n",
    "if not is_valid_user:\n",
    "    print(\"Invalid user\")\n"
   ]
  },
  {
   "cell_type": "code",
   "execution_count": null,
   "metadata": {},
   "outputs": [],
   "source": [
    "from typing import Dict, Union\n",
    "\n",
    "\n",
    "Key = Union[int, str]  # create custom type\n",
    "Value = Union[int, str, list, dict, tuple]\n",
    "\n",
    "import pprint\n",
    "data : Dict[Key, Value] = {\n",
    "                         \"fName\":\"Muhammad Aslan\", \n",
    "                         \"name\":\"Muhammad Qasim\", \n",
    "                         \"education\":\"MSDS\",\n",
    "                        #   [1,2,3]: 'pakistan', # error\n",
    "                        #   (1,2,3):\"Pakistan\", # error \n",
    "                        #   {1,2,3}: \"\" \n",
    "                         }\n",
    "pprint.pprint(data)\n"
   ]
  },
  {
   "cell_type": "code",
   "execution_count": null,
   "metadata": {},
   "outputs": [],
   "source": [
    "from typing import Dict, Union\n",
    "\n",
    "\n",
    "Key = Union[int, str]  # create custom type\n",
    "Value = Union[int, str, list, dict, tuple]\n",
    "\n",
    "import pprint\n",
    "data : Dict[Key, Value] = {\n",
    "                         \"fName\":\"Muhammad Aslan\", \n",
    "                         \"name\":\"Muhammad Qasim\", \n",
    "                         \"education\":\"MSDS\",\n",
    "                         \"abc\": [1,2,3],\n",
    "                         \"efg\": {1:\"hello\"},\n",
    "                         \"hij\": [(123, 456), ('123', '456')],\n",
    "                         \"klm\": (123, 456),\n",
    "                         \"set\":{4,5,6,3,2,1} \n",
    "                        #   [1,2,3]: 'pakistan', # error\n",
    "                        #   (1,2,3): \"Pakistan\", # error \n",
    "                        #   {1,2,3}: \"Pakistan\", # error\n",
    "                         }\n",
    "pprint.pprint(data['efg'][1])\n"
   ]
  },
  {
   "cell_type": "code",
   "execution_count": null,
   "metadata": {},
   "outputs": [],
   "source": [
    "abc : set = {5, 3, 4, 1, 2}\n",
    "print(abc)\n",
    "xyz : list[int] = list(abc)\n",
    "print(xyz)"
   ]
  },
  {
   "cell_type": "code",
   "execution_count": null,
   "metadata": {},
   "outputs": [],
   "source": [
    "from typing import Dict, Union\n",
    "\n",
    "Key = Union[int, str]  # create custom type\n",
    "Value = Union[int, str, list, dict, tuple]\n",
    "\n",
    "data : Dict[Key,Value] = {}\n",
    "\n",
    "# existing exmpty ductionory add key value\n",
    "data['fName'] = \"Abdul\"\n",
    "data['name'] = \"Rafay\"\n",
    "data['education'] = 'SSC XI'\n",
    "data\n"
   ]
  },
  {
   "cell_type": "code",
   "execution_count": null,
   "metadata": {},
   "outputs": [],
   "source": [
    "from typing import Dict, Union\n",
    "\n",
    "Key = Union[int, str]  # create custom type\n",
    "Value = Union[int, str, list, dict, tuple]\n",
    "\n",
    "data : dict[Key,Value] = {\n",
    "                           'fName': 'Abdul', \n",
    "                           'name': 'Rafay', \n",
    "                           'education': 'SSC XI'\n",
    "                           }\n",
    "print(data)\n",
    "\n",
    "data['name'] = 'Qasim' # add new value in existing value replace new value \n",
    "print(data)"
   ]
  },
  {
   "cell_type": "markdown",
   "metadata": {},
   "source": [
    "#### Code Breakdown:\n",
    "\n",
    "* data.get('pakistan'): 'pakistan' key nahi hai, to None return hota hai (default).\n",
    "\n",
    "* data.get('pakistan', 'Not Available'): 'pakistan' key nahi hai, to 'Not Available' return hota hai.\n",
    "\n",
    "* data.get('name'): 'name' key dictionary mein hai, to uski value 'Rafay' return hoti hai.\n",
    "\n",
    "* Summary: get method dictionary se value fetch karta hai aur agar key nahi milti to optional default value return karta hai."
   ]
  },
  {
   "cell_type": "code",
   "execution_count": null,
   "metadata": {},
   "outputs": [],
   "source": [
    "from typing import Dict, Union\n",
    "\n",
    "Key = Union[int, str]  # create custom type\n",
    "Value = Union[int, str, list, dict, tuple]\n",
    "\n",
    "data : dict[Key,Value] = {\n",
    "                           'fName': 'Abdul', \n",
    "                           'name': 'Rafay', \n",
    "                           'education': 'SSC XI'\n",
    "                           }\n",
    "\n",
    "#                 Key\n",
    "print(data.get('pakistan'))\n",
    "print(data.get('pakistan','Not Available'))\n",
    "print(data.get('name'))\n"
   ]
  },
  {
   "cell_type": "code",
   "execution_count": null,
   "metadata": {},
   "outputs": [],
   "source": [
    "from typing import Dict, Union\n",
    "\n",
    "Key = Union[int, str]  # create custom type\n",
    "Value = Union[int, str, list, dict, tuple]\n",
    "\n",
    "data : dict[Key,Value] = {\n",
    "                           'fName': 'Abdul', \n",
    "                           'name': 'Rafay', \n",
    "                           'education': 'SSC XI'\n",
    "                           }\n",
    "\n",
    "for d in data:\n",
    "    print(d) # return (key)"
   ]
  },
  {
   "cell_type": "code",
   "execution_count": null,
   "metadata": {},
   "outputs": [],
   "source": [
    "from typing import Dict, Union\n",
    "\n",
    "Key = Union[int, str]  # create custom type\n",
    "Value = Union[int, str, list, dict, tuple]\n",
    "\n",
    "data : dict[Key,Value] = {\n",
    "                           'fName': 'Abdul', \n",
    "                           'name': 'Rafay', \n",
    "                           'education': 'SSC XI'\n",
    "                           }\n",
    "\n",
    "print(data.keys()) # return (key)\n",
    "print(data.values()) # return (valuse)\n",
    "print(data.items()) # return list[tuple] [('key': 'value'),('key': 'value')]\n",
    "\n",
    "\n",
    "for k in data.keys():\n",
    "    print(k, data[k])"
   ]
  },
  {
   "cell_type": "code",
   "execution_count": null,
   "metadata": {},
   "outputs": [],
   "source": [
    "from typing import Dict, Union\n",
    "\n",
    "Key = Union[int, str]  # create custom type\n",
    "Value = Union[int, str, list, dict, tuple]\n",
    "\n",
    "data : dict[Key,Value] = {\n",
    "                           'fName': 'Abdul', \n",
    "                           'name': 'Rafay', \n",
    "                           'education': 'SSC XI'\n",
    "                           }\n",
    "\n",
    "# print(data.keys()) # return (key)\n",
    "# print(data.values()) # return (valuse)\n",
    "# print(data.items()) # return list[tuple] [('key': 'value'),('key': 'value')]\n",
    "\n",
    "\n",
    "for v in data.values():\n",
    "    print(v)"
   ]
  },
  {
   "cell_type": "code",
   "execution_count": null,
   "metadata": {},
   "outputs": [],
   "source": [
    "from typing import Dict, Union\n",
    "\n",
    "Key = Union[int, str]  # create custom type\n",
    "Value = Union[int, str, list, dict, tuple]\n",
    "\n",
    "data : dict[Key,Value] = {\n",
    "                           'fName': 'Abdul', \n",
    "                           'name': 'Rafay', \n",
    "                           'education': 'SSC XI'\n",
    "                           }\n",
    "\n",
    "# print(data.keys()) # return (key)\n",
    "# print(data.values()) # return (valuse)\n",
    "# print(data.items()) # return list[tuple] [('key': 'value'),('key': 'value')]\n",
    "\n",
    "\n",
    "{k:v for k, v in data.items()}\n",
    "# Shufle\n",
    "{v:k for k, v in data.items()}\n"
   ]
  },
  {
   "cell_type": "code",
   "execution_count": null,
   "metadata": {},
   "outputs": [],
   "source": [
    "a : int = 7\n",
    "b : int = 5\n",
    "\n",
    "print(f\"value of a is {a}\\n value of b is {b}\\n\")\n",
    "\n",
    "a, b = b, a\n",
    "\n",
    "print(f\"value of a is {a}\\n value of b is {b}\")"
   ]
  },
  {
   "cell_type": "markdown",
   "metadata": {},
   "source": [
    "### Key Points:\n",
    "\n",
    "* fromkeys(keys): Is method ko call karne par ek nayi dictionary create hoti hai jismein keys list ke sab elements keys ke tor par set kiye jate hain.\n",
    "\n",
    "##### Default Value:\n",
    "* Agar aap specific value nahi dete, to default value None hoti hai.\n",
    "```\n",
    "{'id': None, 'name': None, 'fName': None, 'course': None}\n",
    "\n",
    "```\n",
    "\n",
    "* Agar aap koi specific default value set karna chahte hain, toh aap fromkeys method ko dusre parameter ke saath call kar sakte hain:\n",
    "\n",
    "```\n",
    "data = data.fromkeys(keys, 'default_value')\n",
    "```\n",
    "* Isse dictionary ki sab keys ki value 'default_value' set hogi."
   ]
  },
  {
   "cell_type": "code",
   "execution_count": null,
   "metadata": {},
   "outputs": [],
   "source": [
    "from typing import Union\n",
    "\n",
    "Key = Union[int, str]\n",
    "Value = Union[int, str, list, dict, tuple]\n",
    "\n",
    "keys: list[str] = ['id', 'name', 'fName', 'course']\n",
    "\n",
    "data: dict[Key, Value] = {}\n",
    "\n",
    "data = data.fromkeys(keys)  # inline\n",
    "\n",
    "print(data)\n",
    "\n",
    "\n",
    "[i for i in dir(data) if \"__\" not in i]"
   ]
  },
  {
   "cell_type": "code",
   "execution_count": null,
   "metadata": {},
   "outputs": [],
   "source": [
    "keys : list[str] = ['id', 'name','fName','course']\n",
    "\n",
    "data : dict[Key, Value] = {}\n",
    "\n",
    "data = data.fromkeys(keys, 'hello') # inline\n",
    "\n",
    "print(data)"
   ]
  }
 ],
 "metadata": {
  "kernelspec": {
   "display_name": "pyenv",
   "language": "python",
   "name": "python3"
  },
  "language_info": {
   "codemirror_mode": {
    "name": "ipython",
    "version": 3
   },
   "file_extension": ".py",
   "mimetype": "text/x-python",
   "name": "python",
   "nbconvert_exporter": "python",
   "pygments_lexer": "ipython3",
   "version": "3.12.4"
  }
 },
 "nbformat": 4,
 "nbformat_minor": 2
}
