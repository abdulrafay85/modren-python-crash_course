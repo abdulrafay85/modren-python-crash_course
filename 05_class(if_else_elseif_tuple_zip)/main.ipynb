{
 "cells": [
  {
   "cell_type": "markdown",
   "metadata": {},
   "source": [
    "### if_else_elif\n",
    "```\n",
    "if logic:\n",
    "    true_block\n",
    "else:\n",
    "    false_block\n",
    "```\n",
    "### comprehensive if_else\n",
    "```\n",
    "true_block if logic else false_block\n",
    "```\n",
    "\n",
    "* if\n",
    "* if_else \n",
    "* if_elif_else"
   ]
  },
  {
   "cell_type": "code",
   "execution_count": null,
   "metadata": {},
   "outputs": [],
   "source": [
    "if True :\n",
    "    print('Pakistan Zinda Bad')\n",
    "else:\n",
    "    print('Hello World')"
   ]
  },
  {
   "cell_type": "code",
   "execution_count": null,
   "metadata": {},
   "outputs": [],
   "source": [
    "if False :\n",
    "    print('Pakistan Zinda Bad')\n",
    "else:\n",
    "    print('Hello World')"
   ]
  },
  {
   "cell_type": "code",
   "execution_count": null,
   "metadata": {},
   "outputs": [],
   "source": [
    "#    True_block        logic     False_block\n",
    "'pakistan zinda bad' if True else 'Hello World'"
   ]
  },
  {
   "cell_type": "code",
   "execution_count": null,
   "metadata": {},
   "outputs": [],
   "source": [
    "'pakistan zinda bad' if False else 'Hello World'"
   ]
  },
  {
   "cell_type": "markdown",
   "metadata": {},
   "source": [
    "#### comeresion operator \n",
    "* `==`\n",
    "* `>=`\n",
    "* `<=`\n",
    "* `!=`\n",
    "\n",
    "##### Logic\n",
    "* `and`\n",
    "* `or` \n",
    "* `not`"
   ]
  },
  {
   "cell_type": "code",
   "execution_count": null,
   "metadata": {},
   "outputs": [],
   "source": [
    "if True:\n",
    "    print('True')\n",
    "elif False:\n",
    "    print('elif')\n",
    "elif False:\n",
    "    print('elif')\n",
    "    \n",
    "print((\"pAKISTAN ZINDA BAD\").capitalize())"
   ]
  },
  {
   "cell_type": "code",
   "execution_count": null,
   "metadata": {},
   "outputs": [],
   "source": [
    "# chain1 run only one block\n",
    "\n",
    "if True:\n",
    "    print(\"True Block\")\n",
    "elif False:\n",
    "    print('elif logic1')\n",
    "elif False:\n",
    "    print('elif logic2')\n",
    "elif False:\n",
    "    print('elif logic3')\n",
    "else:\n",
    "    print(\"final else block\")\n",
    "\n",
    "print((\"pAKISTAN ZINDA BAD\").capitalize())"
   ]
  },
  {
   "cell_type": "code",
   "execution_count": null,
   "metadata": {},
   "outputs": [],
   "source": [
    "# chain2 run only one block\n",
    "\n",
    "if False:\n",
    "    print(\"True Block\")\n",
    "elif True:\n",
    "    print('elif logic1')\n",
    "elif False:\n",
    "    print('elif logic2')\n",
    "elif False:\n",
    "    print('elif logic3')\n",
    "else:\n",
    "    print(\"final else block\")\n",
    "\n",
    "print((\"pAKISTAN ZINDA BAD\").capitalize())"
   ]
  },
  {
   "cell_type": "code",
   "execution_count": null,
   "metadata": {},
   "outputs": [],
   "source": [
    "# chain3 run only one block\n",
    "\n",
    "if False:\n",
    "    print(\"True Block\")\n",
    "elif False:\n",
    "    print('elif logic1')\n",
    "elif True:\n",
    "    print('elif logic2')\n",
    "elif False:\n",
    "    print('elif logic3')\n",
    "else:\n",
    "    print(\"final else block\")\n",
    "\n",
    "print((\"pAKISTAN ZINDA BAD\").capitalize())\n"
   ]
  },
  {
   "cell_type": "code",
   "execution_count": null,
   "metadata": {},
   "outputs": [],
   "source": [
    "# chain4 run only one block\n",
    "\n",
    "if False:\n",
    "    print(\"True Block\")\n",
    "elif False:\n",
    "    print('elif logic1')\n",
    "elif False:\n",
    "    print('elif logic2')\n",
    "elif True:\n",
    "    print('elif logic3')\n",
    "else:\n",
    "    print(\"final else block\")\n",
    "\n",
    "print((\"pAKISTAN ZINDA BAD\").capitalize())"
   ]
  },
  {
   "cell_type": "code",
   "execution_count": null,
   "metadata": {},
   "outputs": [],
   "source": [
    "# chain5 run only one block\n",
    "\n",
    "if False:\n",
    "    print(\"True Block\")\n",
    "elif False:\n",
    "    print('elif logic1')\n",
    "elif False:\n",
    "    print('elif logic2')\n",
    "elif False:\n",
    "    print('elif logic3')\n",
    "else:\n",
    "    print(\"final else block\")\n",
    "\n",
    "print((\"pAKISTAN ZINDA BAD\").capitalize())"
   ]
  },
  {
   "cell_type": "code",
   "execution_count": null,
   "metadata": {},
   "outputs": [],
   "source": [
    "name : str = 'rafay'\n",
    "if len(name) == 4:\n",
    "    print(\"your name length is 4\")\n",
    "elif len(name) == 5:\n",
    "    print('your name length is 5')\n",
    "else:\n",
    "    print(\"i dont know your name length\")"
   ]
  },
  {
   "cell_type": "markdown",
   "metadata": {},
   "source": [
    "#### Grading Rule"
   ]
  },
  {
   "cell_type": "markdown",
   "metadata": {},
   "source": [
    "* Union ka matlab hai ke ek variable ya value ek se zyada specified types mein se koi ek type le sakta hai. \n",
    "\n",
    "* Iska istemal tab hota hai jab ek variable ki multiple potential types ho sakti hain."
   ]
  },
  {
   "cell_type": "code",
   "execution_count": null,
   "metadata": {},
   "outputs": [],
   "source": [
    "from typing import Union\n",
    "grade : Union[int, str] = 4.0\n",
    "type(grade)\n"
   ]
  },
  {
   "cell_type": "code",
   "execution_count": null,
   "metadata": {},
   "outputs": [],
   "source": [
    "a = input(\"Enter your percentage:\\t\")\n",
    "\n",
    "print(type(a)) # <class 'str'>\n",
    "print(a) "
   ]
  },
  {
   "cell_type": "markdown",
   "metadata": {},
   "source": [
    "* int() function Python mein user input ko integer (poora number) mein convert karne ke liye istemal hota hai. \n",
    "\n",
    "* Jab aap user se input lete hain, toh wo input hamesha string format mein hota hai. \n",
    "\n",
    "* Agar aap kisi numerical calculation ya comparison ke liye is input ko integer mein convert karna chahte hain, toh aap int() function ka istemal karte hain."
   ]
  },
  {
   "cell_type": "code",
   "execution_count": null,
   "metadata": {},
   "outputs": [],
   "source": [
    "a = int(input(\"Enter your percentage:\\t\"))\n",
    "\n",
    "print(type(a)) # <class 'int'>\n",
    "print(a) "
   ]
  },
  {
   "cell_type": "code",
   "execution_count": null,
   "metadata": {},
   "outputs": [],
   "source": [
    "# rule\n",
    "per : Union[int, float] = 80\n",
    "grade : Union[str, None] = None\n",
    "\n",
    "if per >= 80:\n",
    "    grade = \"A+\"\n",
    "elif per >= 70:\n",
    "    grade = \"A\"\n",
    "elif per >= 60:\n",
    "    grade = \"B\"\n",
    "elif per >= 50:\n",
    "    grade = \"C\"\n",
    "elif per >= 40:\n",
    "    grade = \"D\"\n",
    "elif per >= 33:\n",
    "    grade = \"E\"\n",
    "else:\n",
    "    grade = \"Fail\"\n",
    "\n",
    "print(f\"Dear Student your percentage is {per} now your calculated grade is:\\t {grade}\")\n",
    "\n"
   ]
  },
  {
   "cell_type": "code",
   "execution_count": null,
   "metadata": {},
   "outputs": [],
   "source": [
    "# rule\n",
    "\n",
    "per : Union[int, float] = int(input(\"Enter your percentage:\\t\"))\n",
    "grade : Union[str, None] = None\n",
    "if per >= 80:\n",
    "    grade = \"A+\"\n",
    "elif per >= 70:\n",
    "    grade = \"A\"\n",
    "elif per >= 60:\n",
    "    grade = \"B\"\n",
    "elif per >= 50:\n",
    "    grade = \"C\"\n",
    "elif per >= 40:\n",
    "    grade = \"D\"\n",
    "elif per >= 33:\n",
    "    grade = \"E\"\n",
    "else:\n",
    "    grade = \"Fail\"\n",
    "\n",
    "print(f\"Dear Student your percentage is {per} now your calculated grade is:\\t {grade}\")\n",
    "\n"
   ]
  },
  {
   "cell_type": "markdown",
   "metadata": {},
   "source": [
    "### Logical Error"
   ]
  },
  {
   "cell_type": "code",
   "execution_count": null,
   "metadata": {},
   "outputs": [],
   "source": [
    "# rule\n",
    "\n",
    "per : Union[int, float] = int(input(\"Enter your percentage:\\t\"))\n",
    "grade : Union[str, None] = None\n",
    "\n",
    "if per >= 0:           # True becuase 99 >= 0  to 99 graterthan hay 0 say is liyen pehla bolck true hay\n",
    "    grade = \"Fail\"\n",
    "elif per >= 33:\n",
    "    grade = \"E\"\n",
    "elif per >= 40:\n",
    "    grade = \"D\"\n",
    "elif per >= 50:\n",
    "    grade = \"C\"\n",
    "elif per >= 60:\n",
    "    grade = \"B\"\n",
    "elif per >= 70:\n",
    "    grade = \"A\"\n",
    "else:\n",
    "    grade = \"A+\"\n",
    "\n",
    "print(f\"Dear Student your percentage is {per} now your calculated grade is:\\t {grade}\")\n",
    "\n"
   ]
  },
  {
   "cell_type": "code",
   "execution_count": null,
   "metadata": {},
   "outputs": [],
   "source": [
    "# rule\n",
    "\n",
    "per : Union[int, float] = float(input(\"Enter your percentage:\\t\"))\n",
    "grade : Union[str, None] = None\n",
    "\n",
    "if (per >= 0) and (per < 33):           # True becuase 99 >= 0  to 99 graterthan hay 0 say is liyen pehla bolck true hay\n",
    "    grade = \"Fail\"\n",
    "elif (per >= 33) and (per < 40):\n",
    "    grade = \"E\"\n",
    "elif (per >= 40) and (per < 50):\n",
    "    grade = \"D\"\n",
    "elif (per >= 50) and (per < 60):\n",
    "    grade = \"C\"\n",
    "elif (per >= 60) and (per < 70):\n",
    "    grade = \"B\"\n",
    "elif (per >= 70) and (per < 80):\n",
    "    grade = \"A\"\n",
    "elif (per >= 80) and (per <= 100):\n",
    "    grade = \"A+\"\n",
    "\n",
    "print(f\"Dear Student your percentage is {per} now your calculated grade is:\\t {grade}\")\n",
    "\n"
   ]
  },
  {
   "cell_type": "markdown",
   "metadata": {},
   "source": [
    "### Student percentages"
   ]
  },
  {
   "cell_type": "code",
   "execution_count": null,
   "metadata": {},
   "outputs": [],
   "source": [
    "perType = Union[float, int]"
   ]
  },
  {
   "cell_type": "code",
   "execution_count": null,
   "metadata": {},
   "outputs": [],
   "source": [
    "# percentages : list[]"
   ]
  },
  {
   "cell_type": "markdown",
   "metadata": {},
   "source": [
    "#### zip() Function\n",
    "* zip() function ko aap multiple iterables ke corresponding elements ko pair karne ke liye use karte hain. \n",
    "\n",
    "* Yeh ek iterator return karta hai jo tuples generate karta hai, jisme har tuple mein input iterables ke corresponding elements hote hain."
   ]
  },
  {
   "cell_type": "code",
   "execution_count": 2,
   "metadata": {},
   "outputs": [
    {
     "name": "stdout",
     "output_type": "stream",
     "text": [
      "[(1, 'a'), (2, 'b'), (3, 'c')]\n"
     ]
    }
   ],
   "source": [
    "list1 = [1, 2, 3]\n",
    "list2 = ['a', 'b', 'c']\n",
    "\n",
    "zipped = zip(list1, list2)\n",
    "\n",
    "# Convert zipped object to list\n",
    "zipped_list = list(zipped)\n",
    "print(zipped_list)  # Output: [(1, 'a'), (2, 'b'), (3, 'c')]\n"
   ]
  },
  {
   "cell_type": "code",
   "execution_count": 3,
   "metadata": {},
   "outputs": [
    {
     "data": {
      "text/plain": [
       "[(1, 99, 'A+'),\n",
       " (0, 88, 'A+'),\n",
       " (2, 63, 'B'),\n",
       " (6, 57, 'C'),\n",
       " (3, 45, 'D'),\n",
       " (5, 32, 'Fail'),\n",
       " (4, 23, 'Fail')]"
      ]
     },
     "execution_count": 3,
     "metadata": {},
     "output_type": "execute_result"
    }
   ],
   "source": [
    "from typing import Union\n",
    "\n",
    "perType = Union[float, int]\n",
    "\n",
    "percantages :list[perType] =  [88, 99, 63, 45, 23, 32, 57]\n",
    "grades : list[str] = []\n",
    "\n",
    "for per in percantages:\n",
    "    grade : str = \"\"\n",
    "    \n",
    "    if (per >= 0) and (per < 33):           \n",
    "        grade = \"Fail\"\n",
    "    elif (per >= 33) and (per < 40):\n",
    "        grade = \"E\"\n",
    "    elif (per >= 40) and (per < 50):\n",
    "        grade = \"D\"\n",
    "    elif (per >= 50) and (per < 60):\n",
    "        grade = \"C\"\n",
    "    elif (per >= 60) and (per < 70):\n",
    "        grade = \"B\"\n",
    "    elif (per >= 70) and (per < 80):\n",
    "        grade = \"A\"\n",
    "    elif (per >= 80) and (per <= 100):\n",
    "        grade = \"A+\"\n",
    "    grades.append(grade)\n",
    "\n",
    "# rool_num = \n",
    "data_base = list(zip(list(range(len(percantages))), percantages, grades))\n",
    "sorted(data_base, key=lambda x:x[1], reverse=True)"
   ]
  },
  {
   "cell_type": "code",
   "execution_count": 7,
   "metadata": {},
   "outputs": [
    {
     "name": "stdout",
     "output_type": "stream",
     "text": [
      "Audi\n",
      "BMW\n",
      "Subaru\n",
      "Toyota\n",
      "toyota\n"
     ]
    }
   ],
   "source": [
    "cars : list[str] = ['audi', 'bmw', 'subaru', 'toyota']\n",
    "\n",
    "for car in cars:\n",
    "    if car == 'bmw':\n",
    "        print(car.upper()) \n",
    "    else:\n",
    "        print(car.title())\n"
   ]
  },
  {
   "cell_type": "code",
   "execution_count": 8,
   "metadata": {},
   "outputs": [
    {
     "data": {
      "text/plain": [
       "['Audi', 'BMW', 'Subaru', 'Toyota']"
      ]
     },
     "execution_count": 8,
     "metadata": {},
     "output_type": "execute_result"
    }
   ],
   "source": [
    "cars : list[str] = ['audi', 'bmw', 'subaru', 'toyota']\n",
    "[car.upper() if car == 'bmw' else car.title() for car in cars]"
   ]
  },
  {
   "cell_type": "code",
   "execution_count": null,
   "metadata": {},
   "outputs": [],
   "source": [
    "cars : list[str] = ['audi', 'bmw', 'mehran', 'subaru', 'toyota']\n",
    "\n",
    "for car in cars:\n",
    "    if car != 'mehran':\n",
    "        print(car.upper()) \n",
    "    else:\n",
    "        print(car.lower())"
   ]
  },
  {
   "cell_type": "code",
   "execution_count": null,
   "metadata": {},
   "outputs": [],
   "source": [
    "cars : list[str] = ['audi', 'bmw', 'mehran', 'subaru', 'toyota']\n",
    "\n",
    "for car in cars:   # extract element from itrated types in operator \n",
    "    if car != 'mehran':\n",
    "        print(car.upper()) \n",
    "    else:\n",
    "        print(car.lower())"
   ]
  },
  {
   "cell_type": "markdown",
   "metadata": {},
   "source": [
    "#### `in` Operator \n",
    "* in operator se aap easily check kar sakte hain ke kisi sequence mein koi specific value exist karti hai ya nahi."
   ]
  },
  {
   "cell_type": "code",
   "execution_count": null,
   "metadata": {},
   "outputs": [],
   "source": [
    "cars : list[str] = ['audi', 'bmw', 'mehran', 'subaru', 'toyota']\n",
    "\n",
    "'bmw' in cars"
   ]
  },
  {
   "cell_type": "code",
   "execution_count": null,
   "metadata": {},
   "outputs": [],
   "source": [
    "banned_users : list[str] = ['andrew', 'carolina', 'david']\n",
    "user : str = 'david'\n",
    "\n",
    "print(user not in banned_users)"
   ]
  },
  {
   "cell_type": "code",
   "execution_count": null,
   "metadata": {},
   "outputs": [],
   "source": [
    "banned_users : list[str] = ['andrew', 'carolina', 'david']\n",
    "user : str = 'david'\n",
    "\n",
    "\n",
    "if user not in banned_users:\n",
    "    print(f\"{user.title()}, you can post a response if you wish.\")"
   ]
  },
  {
   "cell_type": "code",
   "execution_count": 9,
   "metadata": {},
   "outputs": [
    {
     "name": "stdout",
     "output_type": "stream",
     "text": [
      "Adding mushrooms.\n",
      "Adding extra cheese\n",
      "\n",
      "Finished making your pizza\n"
     ]
    }
   ],
   "source": [
    "requested_topping : list[str] = ['mushrooms', 'extra cheese']\n",
    "\n",
    "if 'mushrooms' in requested_topping:\n",
    "    print(\"Adding mushrooms.\")\n",
    "\n",
    "if 'pepperoni' in requested_topping: \n",
    "    print(\"Adding pepperoni\")\n",
    "\n",
    "if 'extra cheese' in requested_topping:\n",
    "    print(\"Adding extra cheese\")\n",
    "    \n",
    "print(\"\\nFinished making your pizza\")"
   ]
  },
  {
   "cell_type": "code",
   "execution_count": null,
   "metadata": {},
   "outputs": [],
   "source": [
    "requested_toppings1 = ['mushrooms', 'green peppers', 'extra cheese']\n",
    "for requested_topping2 in requested_toppings1:\n",
    "    if requested_topping2 == 'green peppers':\n",
    "        print(\"Sorry, we are out of green peppers right now.\")\n",
    "    else:\n",
    "        print(f\"Adding {requested_topping2}.\")\n",
    "print(\"\\nFinished making your pizza!\")"
   ]
  },
  {
   "cell_type": "code",
   "execution_count": null,
   "metadata": {},
   "outputs": [],
   "source": [
    "available_toppings : list[str] = ['mushrooms', 'olives', 'green peppers',\n",
    "                     'pepperoni', 'pineapple', 'extra cheese']\n",
    "\n",
    "requested_toppings = ['mushrooms', 'french fries', 'extra cheese']\n",
    "\n",
    "for requested_topping in requested_toppings:\n",
    "    if requested_topping in available_toppings:\n",
    "        print(f\"Adding {requested_topping}.\")\n",
    "    else:\n",
    "        print(f\"Sorry, we don't have {requested_topping}.\")\n",
    "\n",
    "print(\"\\nFinished making your pizza!\")\n",
    "\n"
   ]
  },
  {
   "cell_type": "code",
   "execution_count": null,
   "metadata": {},
   "outputs": [],
   "source": [
    "available_toppings : list[str] = ['mushrooms', 'olives', 'green peppers',\n",
    "                     'pepperoni', 'pineapple', 'extra cheese']\n",
    "\n",
    "requested_topping = input(\"enter your favroit toping\")\n",
    "\n",
    "if requested_topping in available_toppings:\n",
    "    print(f\"Adding {requested_topping}.\")\n",
    "else:\n",
    "    print(f\"Sorry, we don't have {requested_topping}.\")\n",
    "\n",
    "print(\"\\nFinished making your pizza!\")"
   ]
  },
  {
   "cell_type": "code",
   "execution_count": 10,
   "metadata": {},
   "outputs": [
    {
     "name": "stdout",
     "output_type": "stream",
     "text": [
      "irsham valid user\n",
      "qasim valid user\n",
      "bilal valid user\n"
     ]
    }
   ],
   "source": [
    "user_database : list[tuple[str, str]] = [('irsham', '123'), ('qasim', '456'), ('bilal', '789')]\n",
    "\n",
    "for user in  user_database:\n",
    "    name, password = user\n",
    "    if (name, password) not in user_database:\n",
    "        print(\"unknown user\")\n",
    "    else:\n",
    "        print(f\"{name} valid user\")"
   ]
  },
  {
   "cell_type": "code",
   "execution_count": null,
   "metadata": {},
   "outputs": [],
   "source": [
    "user_database : list[tuple[str, str]] = [('irsham', '123'), ('qasim', '456'), ('bilal', '789')]\n",
    "\n",
    "for user in  user_database:\n",
    "    name, password = user\n",
    "    [print(\"unknown user\") if (name, password) not in user_database else print(f\"{name} valid user\")]\n",
    "        \n",
    "    "
   ]
  },
  {
   "cell_type": "code",
   "execution_count": 128,
   "metadata": {},
   "outputs": [
    {
     "name": "stdout",
     "output_type": "stream",
     "text": [
      "sent otp on your registerd number\n",
      "Welcome Piaic Poratl\n"
     ]
    }
   ],
   "source": [
    "user_name : str = input(\"Enter user id: \\t\")\n",
    "user_password : str = input(\"Enter user password: \\t\")\n",
    "\n",
    "\n",
    "if user_name == 'admin' and user_password == 'admin':\n",
    "    print(\"sent otp on your registerd number\")\n",
    "    otp : str = input(\"Please enter otp\")\n",
    "    if otp == '123':\n",
    "        print(\"Welcome Piaic Poratl\")\n",
    "else:\n",
    "    print(\"Invalide user or password\")"
   ]
  }
 ],
 "metadata": {
  "kernelspec": {
   "display_name": "pyenv",
   "language": "python",
   "name": "python3"
  },
  "language_info": {
   "codemirror_mode": {
    "name": "ipython",
    "version": 3
   },
   "file_extension": ".py",
   "mimetype": "text/x-python",
   "name": "python",
   "nbconvert_exporter": "python",
   "pygments_lexer": "ipython3",
   "version": "3.12.4"
  }
 },
 "nbformat": 4,
 "nbformat_minor": 2
}
