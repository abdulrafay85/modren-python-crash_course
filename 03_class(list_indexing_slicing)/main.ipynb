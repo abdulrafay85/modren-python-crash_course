{
 "cells": [
  {
   "cell_type": "markdown",
   "metadata": {},
   "source": [
    "### Arry & List\n",
    "* dynamic length\n",
    "* hetrogenous data types (Multiple type)\n",
    "* index\n",
    "     * posetive 0 to n-1\n",
    "     * negative -1 to length\n",
    "* slicing\n",
    "     * variable `name[start:end:step]`\n",
    "     * start : int = include\n",
    "     * end : int = n-1\n",
    "     * step : int = sequance\n"
   ]
  },
  {
   "cell_type": "code",
   "execution_count": null,
   "metadata": {},
   "outputs": [],
   "source": [
    "name1 : str = \"Sir Qasim\"\n",
    "name2 : str = \"Sir Zia\"\n",
    "name3 : str = \"Sir Inam\"\n"
   ]
  },
  {
   "cell_type": "code",
   "execution_count": null,
   "metadata": {},
   "outputs": [],
   "source": [
    "# old method \n",
    "# -->       0       1       2            #\n",
    "names = ['Qasim', 'zia', 'inam']\n",
    "#          -3      -2      -1        <-- #\n",
    "\n",
    "print(names[0])\n",
    "print(names[-2])"
   ]
  },
  {
   "cell_type": "code",
   "execution_count": null,
   "metadata": {},
   "outputs": [],
   "source": [
    "from typing import Any\n",
    "\n",
    "names : list[Any] = ['Qasim', 'Zia', 'inam']\n",
    "print(f\"Founder of PIAIC Sir {(names[-2])}\")"
   ]
  },
  {
   "cell_type": "code",
   "execution_count": null,
   "metadata": {},
   "outputs": [],
   "source": [
    "names : list[str] = ['Qasim', 'Zia', 'inam', 1]\n",
    "print(f\"Founder of PIAIC Sir {type(names[-2])}\")\n",
    "print(f\"Founder of PIAIC Sir {type(names[-1])}\")"
   ]
  },
  {
   "cell_type": "markdown",
   "metadata": {},
   "source": [
    "list(): list() function Python ka built-in function hai jo kisi iterable (jaise strings, tuples, ya sets) ko list mein convert karta hai. Jab aap list() function ko ek string par use karte hain, yeh string ke har character ko alag alag element ke tor par list mein convert kar deta hai."
   ]
  },
  {
   "cell_type": "code",
   "execution_count": null,
   "metadata": {},
   "outputs": [],
   "source": [
    "characters : list[str] = list(\"ABCDEFGHIJKLMNOPQRSYUVWXYZ\") \n",
    "print(characters)"
   ]
  },
  {
   "cell_type": "code",
   "execution_count": null,
   "metadata": {},
   "outputs": [],
   "source": [
    "#                          0    1    2                                                                                                                  25 \n",
    "characters : list[str] = ['A', 'B', 'C', 'D', 'E', 'F', 'G', 'H', 'I', 'J', 'K', 'L', 'M', 'N', 'O', 'P', 'Q', 'R', 'S', 'Y', 'U', 'V', 'W', 'X', 'Y', 'Z']\n",
    "#                         -26                                                                                                                -3   -2   -1\n",
    "\n",
    "# default slicing go from left to right \n",
    "print(characters[1:2]) # 0 = include : index 2-1 = 1\n",
    "print(characters[:2]) # not pass any number = [all]\n",
    "print(characters[-26:-24])\n",
    "print(characters[0:2:1]) \n"
   ]
  },
  {
   "cell_type": "markdown",
   "metadata": {},
   "source": [
    "### Example \n",
    "* Start (1): Slicing 1st index se shuru hoti hai (element 1 include hota hai).\n",
    "* End (8): Slicing 8th index tak chalti hai (element 8 exclude hota hai).\n",
    "* Step (2): Har doosra element choose hota hai (2 steps le kar aage badhta hai)."
   ]
  },
  {
   "cell_type": "code",
   "execution_count": null,
   "metadata": {},
   "outputs": [],
   "source": [
    "# List example with step\n",
    "numbers = [0, 1, 2, 3, 4, 5, 6, 7, 8, 9]\n",
    "\n",
    "# Slicing with step\n",
    "subset = numbers[1:8:2]\n",
    "print(subset)  # Output: [1, 3, 5, 7]\n"
   ]
  },
  {
   "cell_type": "code",
   "execution_count": null,
   "metadata": {},
   "outputs": [],
   "source": [
    "# String example\n",
    "text = \"Hello, World!\"\n",
    "\n",
    "# Start omitted\n",
    "print(text[:5])  # Output: 'Hello'\n",
    "\n",
    "# End omitted\n",
    "print(text[7:])  # Output: 'World!'\n",
    "\n",
    "# Step omitted\n",
    "print(text[::2])  # Output: 'Hlo ol!'\n"
   ]
  },
  {
   "cell_type": "markdown",
   "metadata": {},
   "source": [
    "* [::-1]: Pura sequence reverse hota hai kyunki step -1 hai, start aur end omit hone par puri sequence consider hoti hai."
   ]
  },
  {
   "cell_type": "code",
   "execution_count": null,
   "metadata": {},
   "outputs": [],
   "source": [
    "characters : list[str] = ['A', 'B', 'C', 'D', 'E', 'F', 'G', 'H', 'I', 'J', 'K', 'L', 'M', 'N', 'O', 'P', 'Q', 'R', 'S', 'Y', 'U', 'V', 'W', 'X', 'Y', 'Z']\n",
    "\n",
    "print(characters[::-1])"
   ]
  },
  {
   "cell_type": "code",
   "execution_count": null,
   "metadata": {},
   "outputs": [],
   "source": [
    "#                      0  1  2  3  4  5  6  7  8\n",
    "numbers : list[int] = [0, 1, 2, 3, 4, 5, 6, 7, 8]\n",
    "#                      -9 -8 -7 -6 -5 -4 -3 -2 -1\n",
    "\n",
    "# itration slicing ->\n",
    "# step -> positive [::1]\n",
    "# step <- negative [::-1]\n",
    "print(numbers[7:2:-1])"
   ]
  },
  {
   "cell_type": "code",
   "execution_count": null,
   "metadata": {},
   "outputs": [],
   "source": [
    "numbers : list[int] = [0, 1, 2, 3, 4, 5, 6, 7]\n",
    "\n",
    "print(numbers[1:3])\n"
   ]
  },
  {
   "cell_type": "markdown",
   "metadata": {},
   "source": [
    "### List Method"
   ]
  },
  {
   "cell_type": "code",
   "execution_count": null,
   "metadata": {},
   "outputs": [],
   "source": [
    "from typing import Any\n",
    "\n",
    "# -->                     0           1          2       \n",
    "names : list[Any] = [\"Sir Qasim\", \"Sir Zia\", \"Sir Inam\", 20, True]\n",
    "# <--                     -3          -2         -1\n",
    "\n",
    "print(names)\n",
    "names[0] = \"Sir Muhammad Qasim\" # mutable -> editable\n",
    "print(names)"
   ]
  },
  {
   "cell_type": "markdown",
   "metadata": {},
   "source": [
    "### Delete Method"
   ]
  },
  {
   "cell_type": "code",
   "execution_count": null,
   "metadata": {},
   "outputs": [],
   "source": [
    "from typing import Any\n",
    "\n",
    "# -->                     0           1          2       \n",
    "names : list[Any] = [\"Sir Qasim\", \"Sir Zia\", \"Sir Inam\", 20, True]\n",
    "# <--                     -3          -2         -1\n",
    "\n",
    "print(names)\n",
    "del names[3]\n",
    "print(names)   # delet method remove all elements of the list and object from memory "
   ]
  },
  {
   "cell_type": "code",
   "execution_count": null,
   "metadata": {},
   "outputs": [],
   "source": [
    "users : list[str] = [\"ahmed\", \"bilal\", \"irsham\"]\n",
    "users.clear() # clear method remove all vlaue of list but remain is structure of object\n",
    "print(users)\n"
   ]
  },
  {
   "cell_type": "code",
   "execution_count": null,
   "metadata": {},
   "outputs": [],
   "source": [
    "a : str = id(names) # return function\n",
    "display(a)\n",
    "\n",
    "# ----------------\n",
    "\n",
    "a : str = print(names) # not return value\n",
    "display(a)"
   ]
  },
  {
   "cell_type": "markdown",
   "metadata": {},
   "source": [
    "## Help\n",
    "* help(object)\n",
    "* object?\n",
    "* object??\n",
    "* ?object\n",
    "* ??object"
   ]
  },
  {
   "cell_type": "markdown",
   "metadata": {},
   "source": [
    "### Pop mrthod remove element in last "
   ]
  },
  {
   "cell_type": "code",
   "execution_count": null,
   "metadata": {},
   "outputs": [],
   "source": [
    "from typing import Any\n",
    "\n",
    "# -->                     0           1          2       \n",
    "names : list[Any] = [\"Sir Qasim\", \"Sir Zia\", \"Sir Inam\", 20, True]\n",
    "# <--                     -3          -2         -1\n",
    " \n",
    "print(names)\n",
    "a : str = names.pop() # last vlaue remove & return method\n",
    "b : str = names.pop(2) # last vlaue remove & return method\n",
    "print(a)\n",
    "print(b)\n",
    "print(names)"
   ]
  },
  {
   "cell_type": "markdown",
   "metadata": {},
   "source": [
    "#### Append method add element in last "
   ]
  },
  {
   "cell_type": "code",
   "execution_count": null,
   "metadata": {},
   "outputs": [],
   "source": [
    "name : list[str] = []\n",
    "name.append(\"Sir Zia\")\n",
    "name.append(\"Sir Qasim\")\n",
    "print(name)"
   ]
  },
  {
   "cell_type": "markdown",
   "metadata": {},
   "source": [
    "### The insert() Method\n",
    "* The insert() method in Python is used to add an element at a specified position in a list. It doesn't replace the existing elements but shifts them to make space for the new element.\n",
    "\n",
    "* index: The position where you want to insert the element. It is a zero-based index, meaning the first element has an index of 0.\n",
    "\n",
    "* element: The item you want to add to the list."
   ]
  },
  {
   "cell_type": "code",
   "execution_count": null,
   "metadata": {},
   "outputs": [],
   "source": [
    "users : list[str] = [\"ahmed\", \"bilal\"]\n",
    "\n",
    "users.insert(1, \"irsham\")\n",
    "print(users)"
   ]
  },
  {
   "cell_type": "markdown",
   "metadata": {},
   "source": [
    "### Copy"
   ]
  },
  {
   "cell_type": "code",
   "execution_count": null,
   "metadata": {},
   "outputs": [],
   "source": [
    "a : list[int] = [1, 2, 3, 4]\n",
    "b = a # shallow copy\n",
    "print(a)\n",
    "print(b)\n",
    "b[0] = \"Pakistan\"\n",
    "print(a)\n",
    "print(b)"
   ]
  },
  {
   "cell_type": "code",
   "execution_count": 11,
   "metadata": {},
   "outputs": [
    {
     "name": "stdout",
     "output_type": "stream",
     "text": [
      "[1, 2, 3, 4]\n",
      "[1, 2, 3, 4]\n",
      "[1, 2, 3, 4]\n",
      "['Pakistan', 2, 3, 4]\n"
     ]
    }
   ],
   "source": [
    "a : list[int] = [1, 2, 3, 4]\n",
    "b = a.copy()  # shallow copy\n",
    "print(a)\n",
    "print(b)\n",
    "b[0] = \"Pakistan\"\n",
    "print(a)\n",
    "print(b)\n"
   ]
  },
  {
   "cell_type": "markdown",
   "metadata": {},
   "source": [
    "#### Count"
   ]
  },
  {
   "cell_type": "code",
   "execution_count": 12,
   "metadata": {},
   "outputs": [
    {
     "name": "stdout",
     "output_type": "stream",
     "text": [
      "3\n",
      "2\n",
      "1\n"
     ]
    }
   ],
   "source": [
    "alphabate : list[str] = ['a', 'a', 'a', 'b', 'b', 'c']\n",
    "print(alphabate.count(\"a\"))\n",
    "print(alphabate.count(\"b\"))\n",
    "print(alphabate.count(\"c\"))"
   ]
  },
  {
   "cell_type": "code",
   "execution_count": 13,
   "metadata": {},
   "outputs": [
    {
     "name": "stdout",
     "output_type": "stream",
     "text": [
      "['Sir Qasim', 'Sir Zia', 'Sir Inam', [\"Donkey's chest spesialist Ukasha\", 'Dr Noman']]\n"
     ]
    }
   ],
   "source": [
    "names : list[str] = [\"Sir Qasim\", \"Sir Zia\", \"Sir Inam\"]\n",
    "\n",
    "new_facilty_mamber : list[str] = ['Donkey\\'s chest spesialist Ukasha', 'Dr Noman']\n",
    "\n",
    "names.append(new_facilty_mamber)\n",
    "print(names)"
   ]
  },
  {
   "cell_type": "code",
   "execution_count": 14,
   "metadata": {},
   "outputs": [
    {
     "name": "stdout",
     "output_type": "stream",
     "text": [
      "['Sir Qasim', 'Sir Zia', 'Sir Inam', 'Sir Hamzah', 'Dr Noman']\n"
     ]
    }
   ],
   "source": [
    "names : list[str] = [\"Sir Qasim\", \"Sir Zia\", \"Sir Inam\"]\n",
    "\n",
    "new_facilty_mamber : list[str] = ['Sir Hamzah', 'Dr Noman']\n",
    "\n",
    "names.extend(new_facilty_mamber)\n",
    "print(names)"
   ]
  },
  {
   "cell_type": "code",
   "execution_count": null,
   "metadata": {},
   "outputs": [],
   "source": [
    "names : list[str] = ['Sir Qasim', 'Sir Zia', 'Sir Inam', \"Donkey's chest spesialist Ukasha\", 'Dr Noman']\n",
    "names.remove('Sir Inam')   # remove with text value\n",
    "print(names)"
   ]
  },
  {
   "cell_type": "code",
   "execution_count": 15,
   "metadata": {},
   "outputs": [
    {
     "name": "stdout",
     "output_type": "stream",
     "text": [
      "2\n"
     ]
    }
   ],
   "source": [
    "names : list[str] = ['Sir Qasim', 'Sir Zia', 'Sir Inam', \"Donkey's chest spesialist Ukasha\", 'Dr Noman']\n",
    "print(names.index('Sir Inam')) # return ans index number [2]"
   ]
  },
  {
   "cell_type": "code",
   "execution_count": 16,
   "metadata": {},
   "outputs": [
    {
     "name": "stdout",
     "output_type": "stream",
     "text": [
      "[1, 2, 3]\n",
      "[3, 2, 1]\n"
     ]
    }
   ],
   "source": [
    "name : list[int] = [1, 2, 3] \n",
    "print(name)\n",
    "name.reverse() # in-memory change real data\n",
    "print(name)"
   ]
  },
  {
   "cell_type": "code",
   "execution_count": 17,
   "metadata": {},
   "outputs": [
    {
     "name": "stdout",
     "output_type": "stream",
     "text": [
      "[2, 1, 3, 5, 4]\n",
      "[5, 4, 3, 2, 1]\n"
     ]
    }
   ],
   "source": [
    "name : list[int] = [2, 1, 3, 5, 4] \n",
    "print(name)\n",
    "name.sort(reverse=True) # in-memory change real data\n",
    "print(name)"
   ]
  }
 ],
 "metadata": {
  "kernelspec": {
   "display_name": "pyenv",
   "language": "python",
   "name": "python3"
  },
  "language_info": {
   "codemirror_mode": {
    "name": "ipython",
    "version": 3
   },
   "file_extension": ".py",
   "mimetype": "text/x-python",
   "name": "python",
   "nbconvert_exporter": "python",
   "pygments_lexer": "ipython3",
   "version": "3.12.4"
  }
 },
 "nbformat": 4,
 "nbformat_minor": 2
}
