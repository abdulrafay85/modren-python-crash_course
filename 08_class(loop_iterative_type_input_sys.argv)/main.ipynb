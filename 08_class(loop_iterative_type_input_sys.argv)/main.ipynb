{
 "cells": [
  {
   "cell_type": "markdown",
   "metadata": {},
   "source": [
    "### Loop and input from user\n",
    "* while \n",
    "* for \n",
    "* controls\n",
    "    * break\n",
    "    * continue\n",
    "    * pass\n",
    "* input with input function\n",
    "* input from  console\n",
    "\n",
    "### Loop working on iterative data types\n",
    "* list \n",
    "* dictionory\n",
    "* tuple\n",
    "* string\n",
    " "
   ]
  },
  {
   "cell_type": "code",
   "execution_count": null,
   "metadata": {},
   "outputs": [],
   "source": [
    "list_1 : list[int] = [1,2,3,4,5,6]\n",
    "print(list_1)"
   ]
  },
  {
   "cell_type": "code",
   "execution_count": null,
   "metadata": {},
   "outputs": [],
   "source": [
    "# list\n",
    "list_1 : list[int] = [1,2,3,4,5,6]\n",
    "\n",
    "for n in list_1:\n",
    "    print(f\"current number {n}\")"
   ]
  },
  {
   "cell_type": "code",
   "execution_count": null,
   "metadata": {},
   "outputs": [],
   "source": [
    "# tuple\n",
    "tuple_1 : tuple[int] = (1,2,3,4,5,6)\n",
    "\n",
    "for n in tuple_1:\n",
    "    print(f\"current number : {n}\")"
   ]
  },
  {
   "cell_type": "code",
   "execution_count": null,
   "metadata": {},
   "outputs": [],
   "source": [
    "#              01234567\n",
    "str_1 : str = \"pakistan\"\n",
    "\n",
    "for n in str_1:\n",
    "    print(f\"current character :{n}\")"
   ]
  },
  {
   "cell_type": "code",
   "execution_count": null,
   "metadata": {},
   "outputs": [],
   "source": [
    "# dictionory itration perfom on keys\n",
    "dict_1 : dict[str, str] = {\"name\":\"rafay\", \"fname\": \"maqbool\"}\n",
    "\n",
    "for n in dict_1:\n",
    "    print(f\"dictionory key :{n} and value is :{dict_1[n]}\")"
   ]
  },
  {
   "cell_type": "code",
   "execution_count": null,
   "metadata": {},
   "outputs": [],
   "source": [
    "set_1 : set[int] = {4,2,5,1,3}\n",
    "for n in set_1:\n",
    "    print(f\"set value:{n}\")"
   ]
  },
  {
   "cell_type": "code",
   "execution_count": null,
   "metadata": {},
   "outputs": [],
   "source": [
    "set_2 : list[set[int]] = list({4,2,5,1,3})\n",
    "for n in set_2:\n",
    "    print(f\"value from list of set : {n}\")"
   ]
  },
  {
   "cell_type": "code",
   "execution_count": null,
   "metadata": {},
   "outputs": [],
   "source": [
    "set_2 : set[int] = {4,2,5,1,3}\n",
    "for n in set_2:\n",
    "    print(f\"set item is {n}\")"
   ]
  },
  {
   "cell_type": "markdown",
   "metadata": {},
   "source": [
    "### input from user\n",
    " * input funciton\n",
    "    * default type = string \n",
    " * sys.argv (for console input in abc.py file )\n",
    "    * default type = str"
   ]
  },
  {
   "cell_type": "markdown",
   "metadata": {},
   "source": [
    "###### Python mein input() function user se koi bhi value ya data lene ke liye use hota hai. Jab aap input() ka use karte hain, to program run hone ke baad user ko kuch likhne ka mauqa milta hai, aur jo bhi user likhta hai, wo as a string store ho jata hai"
   ]
  },
  {
   "cell_type": "code",
   "execution_count": null,
   "metadata": {},
   "outputs": [],
   "source": [
    "name : str = input(\"what is your name? : \\t\")\n",
    "\n",
    "print(type(name))\n",
    "print(f\"Welcome dear User Mr/Miss {name}\")\n"
   ]
  },
  {
   "cell_type": "markdown",
   "metadata": {},
   "source": [
    "### `sys.argv` \n",
    "\n",
    "* ki baat karein, to ye ek list hoti hai jo command line arguments ko store karti hai. \n",
    "* Jab aap Python script command line se run karte hain aur saath mein kuch arguments dete hain, to sys.argv un arguments ko store kar leta hai.\n",
    "\n",
    "  * `import sys`\n",
    "\n",
    "  * `print(\"Arguments:\", sys.argv)`\n",
    "\n",
    "---\n",
    "\n",
    "* Agar aap is script ko command line se is tarah run karein:\n",
    "\n",
    "  * `python script_name.py argument1 argument2`\n",
    "\n",
    " ----------\n",
    "\n",
    "* To sys.argv mein yeh list store hogi:\n",
    "  *  `['script_name.py', 'argument1', 'argument2']`\n",
    "  \n",
    "  * Iska matlab yeh hai ke sys.argv[0] mein script ka naam, aur uske baad wale elements mein arguments store hote hain "
   ]
  },
  {
   "cell_type": "code",
   "execution_count": null,
   "metadata": {},
   "outputs": [],
   "source": [
    "import sys\n",
    "\n",
    "print(\"line 1\")\n",
    "print(\"line 2\")\n",
    "user_input = sys.argv # itrative data type\n",
    "\n",
    "print(\"hello\", user_input)"
   ]
  },
  {
   "cell_type": "markdown",
   "metadata": {},
   "source": [
    "### while loop\n",
    "```\n",
    "while logic: # True/False\n",
    "    loop_body\n",
    "```\n",
    "* Python mein while loop kaafi simple aur asaan hota hai. Ye loop tab tak repeat hota rehta hai jab tak uska condition True hota hai. Jab condition False ho jata hai, to loop ruk jata hai."
   ]
  },
  {
   "cell_type": "code",
   "execution_count": 1,
   "metadata": {},
   "outputs": [
    {
     "name": "stdout",
     "output_type": "stream",
     "text": [
      "This block is true: 1\n",
      "This block is true: 2\n",
      "This block is true: 3\n",
      "This block is true: 4\n",
      "This block is true: 5\n",
      "This block is true: 6\n",
      "This block is true: 7\n",
      "This block is true: 8\n",
      "This block is true: 9\n"
     ]
    }
   ],
   "source": [
    "flag : bool = True\n",
    "\n",
    "current_number : int = 1\n",
    "\n",
    "while flag:\n",
    "    print(f\"This block is true: {current_number}\")\n",
    "    current_number +=1\n",
    "\n",
    "    if current_number == 10: # flag false at some point\n",
    "        break\n"
   ]
  },
  {
   "cell_type": "code",
   "execution_count": 2,
   "metadata": {},
   "outputs": [
    {
     "name": "stdout",
     "output_type": "stream",
     "text": [
      "current index is: 0 and list value is 100\n",
      "current index is: 1 and list value is 200\n",
      "current index is: 2 and list value is 300\n",
      "current index is: 3 and list value is 400\n"
     ]
    }
   ],
   "source": [
    "l1 : list[int] = [100, 200, 300, 400]\n",
    "\n",
    "index : int = 0\n",
    "\n",
    "while index < len(l1):\n",
    "    print(f\"current index is: {index} and list value is {l1[index]}\")\n",
    "    index +=1\n",
    "\n",
    "    # if index == 10: # flag false at some point\n",
    "    #     break\n"
   ]
  },
  {
   "cell_type": "code",
   "execution_count": null,
   "metadata": {},
   "outputs": [],
   "source": [
    "data : list[dict[str, str]] = []\n",
    "\n",
    "flag : bool = True\n",
    "\n",
    "while flag:\n",
    "    name : str = input(\"Your good name? \\t\")\n",
    "    education : str = input(\"Your last education? \\t\")\n",
    "\n",
    "    if name in ['exit', 'quit', 'cloes', 'stop'] and education in ['exit', 'quit', 'cloes', 'stop']:\n",
    "        flag=False\n",
    "        break\n",
    "    data.append({\n",
    "        \"name\": f\"{name}\",\n",
    "        \"education\":f\"{education}\"\n",
    "    })\n",
    "display(data)"
   ]
  },
  {
   "cell_type": "markdown",
   "metadata": {},
   "source": [
    "### controls\n",
    "* break\n",
    "* continue\n",
    "* pass\n",
    "\n",
    "* while loop mein kuch controls hotay hain jo aapko loop ke behavior ko control karne mein madad dete hain. Do common controls hain:\n",
    "\n"
   ]
  },
  {
   "cell_type": "code",
   "execution_count": null,
   "metadata": {},
   "outputs": [],
   "source": [
    "for i in range(1, 11):\n",
    "    print(f\"2 X {i} = {i*2}\")\n",
    "    "
   ]
  },
  {
   "cell_type": "markdown",
   "metadata": {},
   "source": [
    "* continue: Ye loop ke current iteration ko chhor kar next iteration par jump kar jata hai. Matlab, loop ka jo baqi code hai, wo skip ho jata hai aur loop phir se start ho jata hai."
   ]
  },
  {
   "cell_type": "code",
   "execution_count": 3,
   "metadata": {},
   "outputs": [
    {
     "name": "stdout",
     "output_type": "stream",
     "text": [
      "1\n",
      "2\n",
      "3\n",
      "4\n",
      "6\n",
      "7\n",
      "8\n",
      "9\n",
      "10\n"
     ]
    }
   ],
   "source": [
    "for i in range(1,11): # Creating a range from 1 to 10\n",
    "    if i == 5:\n",
    "        continue # Skipping the itration when i is 5\n",
    "    print(i) \n"
   ]
  },
  {
   "cell_type": "markdown",
   "metadata": {},
   "source": [
    "* Jee bilkul, Python mein pass bhi ek statement hota hai. pass ka matlab hai \"kuch mat karo.\" Yeh statement basically placeholder ke tor par use hota hai jab aapko code likhna hota hai lekin abhi us jagah par kuch specific code nahi likha hai.\n",
    "\n",
    "* Agar aapko while loop mein temporarily koi code nahi likhna aur syntax error se bachna hai, to aap pass use kar sakte hain"
   ]
  },
  {
   "cell_type": "code",
   "execution_count": 5,
   "metadata": {},
   "outputs": [],
   "source": [
    "for i in range(1,11): # Creating a range from 1 to 10\n",
    "    pass"
   ]
  }
 ],
 "metadata": {
  "kernelspec": {
   "display_name": "Python 3",
   "language": "python",
   "name": "python3"
  },
  "language_info": {
   "codemirror_mode": {
    "name": "ipython",
    "version": 3
   },
   "file_extension": ".py",
   "mimetype": "text/x-python",
   "name": "python",
   "nbconvert_exporter": "python",
   "pygments_lexer": "ipython3",
   "version": "3.12.4"
  }
 },
 "nbformat": 4,
 "nbformat_minor": 2
}
