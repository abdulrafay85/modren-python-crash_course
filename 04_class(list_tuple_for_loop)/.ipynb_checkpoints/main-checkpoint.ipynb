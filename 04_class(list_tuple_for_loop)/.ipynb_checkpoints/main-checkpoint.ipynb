{
 "cells": [
  {
   "cell_type": "markdown",
   "id": "8792980a-4c08-461c-90a7-f93bf40fcfa8",
   "metadata": {},
   "source": [
    "# List \n",
    "* itretion operation with loop\n",
    "* apply any operation on element\n",
    "* "
   ]
  },
  {
   "cell_type": "code",
   "execution_count": null,
   "id": "dd3c9d2b-3005-4d2f-906a-aebf8c6039ac",
   "metadata": {},
   "outputs": [],
   "source": [
    "khsd"
   ]
  }
 ],
 "metadata": {
  "kernelspec": {
   "display_name": "Python 3 (ipykernel)",
   "language": "python",
   "name": "python3"
  },
  "language_info": {
   "codemirror_mode": {
    "name": "ipython",
    "version": 3
   },
   "file_extension": ".py",
   "mimetype": "text/x-python",
   "name": "python",
   "nbconvert_exporter": "python",
   "pygments_lexer": "ipython3",
   "version": "3.12.4"
  }
 },
 "nbformat": 4,
 "nbformat_minor": 5
}
