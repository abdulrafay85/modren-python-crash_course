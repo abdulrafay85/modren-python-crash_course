{
 "cells": [
  {
   "cell_type": "markdown",
   "id": "a48f038c-4508-485b-999d-0e68ad22ea33",
   "metadata": {},
   "source": [
    "# List \n",
    "* itretion operation with loop\n",
    "* apply any operation on element"
   ]
  },
  {
   "cell_type": "code",
   "execution_count": null,
   "id": "dd3c9d2b-3005-4d2f-906a-aebf8c6039ac",
   "metadata": {},
   "outputs": [],
   "source": [
    "names : list[str] = ['Sir Zia', 'Sir Qasim', 'Dr Noman']\n",
    "print(names)"
   ]
  },
  {
   "cell_type": "markdown",
   "id": "d299e88e",
   "metadata": {},
   "source": [
    "###### Tuple ek immutable data structure hai Python mein, jo ordered sequence of elements ko store karta hai. Ye list ki tarah hota hai, lekin tuples ko modify nahi kiya ja sakta, yani ke aap ek baar tuple ko create karne ke baad uske elements ko change, add, ya remove nahi kar sakte. Tuples ko parentheses () ke andar likha jaata hai.\n",
    "\n",
    "* Immutable: Tuple banne ke baad uske elements ko change nahi kiya ja sakta.\n",
    "* Ordered: Tuples me elements ka ek specific order hota hai, aur ye index-based hota hai.\n",
    "* Heterogeneous: Tuple me different data types ke elements ho sakte hain.\n",
    "* Hashable: Tuples ko keys ke taur par dictionaries me use kiya ja sakta hai."
   ]
  },
  {
   "cell_type": "code",
   "execution_count": null,
   "id": "b67946ff",
   "metadata": {},
   "outputs": [],
   "source": [
    "names : tuple[str] = ('A', 'B', 'C', 'D')\n",
    "\n",
    "names : tuple[str] = ('Pakistan', 'A', 'B', 'C', 'D')  # re-asignable"
   ]
  },
  {
   "cell_type": "code",
   "execution_count": null,
   "id": "f42c1ea8",
   "metadata": {},
   "outputs": [],
   "source": [
    "names : tuple[str] = ('A', 'B', 'C', 'D')\n",
    "\n",
    "names[0] = \"Pakistan\""
   ]
  },
  {
   "cell_type": "code",
   "execution_count": 121,
   "id": "5bbe42ff",
   "metadata": {},
   "outputs": [
    {
     "name": "stdout",
     "output_type": "stream",
     "text": [
      "('A', [1, 2, 3], True)\n"
     ]
    }
   ],
   "source": [
    "from typing import Any\n",
    "\n",
    "data : tuple[Any] = ('A', [1, 2, 3], True)\n",
    "print(data)"
   ]
  },
  {
   "cell_type": "markdown",
   "id": "805b2b7e",
   "metadata": {},
   "source": [
    "#### Single Element Tuple\n",
    "\n",
    "* Ye tuple ek single element rakhta hai, aur comma , single element tuple me zaroori hai taake Python ko pata chale ye tuple hai na ke expression."
   ]
  },
  {
   "cell_type": "code",
   "execution_count": null,
   "id": "e0534bc4",
   "metadata": {},
   "outputs": [],
   "source": [
    "single_element : tuple[int] = (42,)"
   ]
  },
  {
   "cell_type": "markdown",
   "id": "60183339",
   "metadata": {},
   "source": [
    "#### Tuple ke Andar List\n",
    "* Aap tuple me list ko rakh sakte hain. Yeh useful hota hai jab aapko tuple ki immutability aur list ki mutability ka combination chahiye."
   ]
  },
  {
   "cell_type": "code",
   "execution_count": null,
   "id": "4fee9faa",
   "metadata": {},
   "outputs": [],
   "source": [
    "# Define a tuple with lists as elements\n",
    "my_tuple = ([1, 2, 3], [4, 5, 6], [7, 8, 9])\n",
    "\n",
    "# Accessing elements\n",
    "print(my_tuple[0])  # Output: [1, 2, 3]\n",
    "print(my_tuple[1])  # Output: [4, 5, 6]\n",
    "\n",
    "# Accessing a list inside the tuple and modifying it\n",
    "my_tuple[0].append(4)\n",
    "print(my_tuple[0])  # Output: [1, 2, 3, 4]\n",
    "\n",
    "# Note: You can't change the tuple itself (e.g., add or remove lists), but you can change the lists inside it.\n"
   ]
  },
  {
   "cell_type": "code",
   "execution_count": null,
   "id": "910a16a9",
   "metadata": {},
   "outputs": [],
   "source": [
    "from typing import Any\n",
    "\n",
    "data : tuple[Any] = ('A', [1, 2, 3], True)\n",
    "# data[0].append('b') # error\n",
    "data[1].append(4)\n",
    "print(data)"
   ]
  },
  {
   "cell_type": "markdown",
   "id": "dfa2d92e",
   "metadata": {},
   "source": [
    "### For Loop"
   ]
  },
  {
   "cell_type": "code",
   "execution_count": null,
   "id": "8241a886",
   "metadata": {},
   "outputs": [],
   "source": [
    "# for loop structure \n",
    "\n",
    "#        local Veriable\n",
    "# for         xyz            in           ['Sir Zia', 'Sir Qasim', 'Dr Noman']\n",
    "#             print()"
   ]
  },
  {
   "cell_type": "code",
   "execution_count": null,
   "id": "8b989cff-f2c5-4cb5-b23c-33212c45558c",
   "metadata": {},
   "outputs": [],
   "source": [
    "names : list[str] = ['Sir Zia', 'Sir Qasim', 'Dr Noman']\n",
    "\n",
    "for name in names :\n",
    "    print(name)\n",
    "\n",
    "# Sir Zia\n",
    "# Sir Qasim\n",
    "# Dr Noman"
   ]
  },
  {
   "cell_type": "code",
   "execution_count": null,
   "id": "b3a07844-87b7-4ebb-a5f7-e2ceba9c7be6",
   "metadata": {},
   "outputs": [],
   "source": [
    "# traditionol method\n",
    "\n",
    "names = ['Sir Zia', 'Sir Qasim', 'Dr Noman']\n",
    "i : int = 0\n",
    "\n",
    "while i<len(names):\n",
    "    print(names[i])\n",
    "    i += 1 "
   ]
  },
  {
   "cell_type": "markdown",
   "id": "61a4dbc9",
   "metadata": {},
   "source": [
    "for `name` in `names` `:` <br>\n",
    "    print(name)\n"
   ]
  },
  {
   "cell_type": "code",
   "execution_count": null,
   "id": "8314eae2",
   "metadata": {},
   "outputs": [],
   "source": [
    "names : list[str] = ['Sir Zia', 'Sir Qasim', 'Dr Noman']\n",
    "\n",
    "for name in names :\n",
    "    print(f'''Wellcome Dear Teacher {name.title()}''')\n",
    "    print((f'''PIAIC GENRATIVE AI TEAM\\n''').title())\n",
    "    print((f'''heLLO\\n''').title())\n",
    "print((f'''Yekki''').title())\n",
    "\n"
   ]
  },
  {
   "cell_type": "code",
   "execution_count": null,
   "id": "951187c6",
   "metadata": {},
   "outputs": [],
   "source": [
    "data_base: list[tuple[str, str]] = [(\"ahmed\", '123'), (\"qasim\", '456'), (\"bilal\", '789')]\n",
    "\n",
    "for i in data_base:\n",
    "    user, password = i\n",
    "    print(user, password)"
   ]
  },
  {
   "cell_type": "code",
   "execution_count": null,
   "id": "98ff751a",
   "metadata": {},
   "outputs": [],
   "source": [
    "data_base: list[tuple[str, str]] = [(\"ahmed\", '123'), (\"qasim\", '456'), (\"bilal\", '789')]\n",
    "\n",
    "\n",
    "input_user : str = input(\"Enter User Name\")\n",
    "input_password : str = input(\"Enter User Password\")\n",
    "\n",
    "for i in data_base:\n",
    "    user, password = i\n",
    "    if input_user == user and input_password == input_password:\n",
    "        print(\"valid user\")\n",
    "        break\n",
    "else:\n",
    "    print(\"Not found or Invalid User\")"
   ]
  },
  {
   "cell_type": "code",
   "execution_count": null,
   "id": "163c37d5",
   "metadata": {},
   "outputs": [],
   "source": [
    "data_base: list[tuple[str, str]] = [(\"ahmed\", '123'), (\"qasim\", '456'), (\"bilal\", '789')]\n",
    "\n",
    "for name in data_base:\n",
    "    print(name)\n",
    "    break\n",
    "else :\n",
    "    print(\"Hello World\")"
   ]
  },
  {
   "cell_type": "code",
   "execution_count": null,
   "id": "e2d072ba",
   "metadata": {},
   "outputs": [],
   "source": [
    "data_base: list[tuple[str, str]] = [(\"ahmed\", '123'), (\"qasim\", '456'), (\"bilal\", '789')]\n",
    "\n",
    "for name in data_base:\n",
    "    print(name)\n",
    "    break\n",
    "print(\"Hello World\")"
   ]
  },
  {
   "cell_type": "markdown",
   "id": "f0829656",
   "metadata": {},
   "source": [
    "#### Is Behavior Ki Explanation: <br>Variable Scope:\n",
    "\n",
    "* teacher variable ki scope for loop ke block me aur uske baad bhi accessible hoti hai. Python me, loop ki ending pe last value variable me set rehti hai.\n",
    "Variable Overwriting:\n",
    "\n",
    "* Har iteration me teacher variable ki value update hoti hai. Last iteration ke baad, ye variable overwrite nahi hota, isliye last value 'Dr Noman' rehti hai.\n",
    "Python Ki Behavior:\n",
    "\n",
    "* Python me for loop ka behavior aisa hai ke variable loop ke baad bhi available hota hai, jo aur programming languages me alag ho sakta hai."
   ]
  },
  {
   "cell_type": "code",
   "execution_count": null,
   "id": "8ba16705",
   "metadata": {},
   "outputs": [],
   "source": [
    "teachers : list[str] = ['Sir Zia', 'Sir Qasim', 'Dr Noman']\n",
    "for teacher in teachers:\n",
    "    print(f\"{teacher.title()}, that was a great teacher\") \n",
    "\n",
    "print(f\"{teacher.title()}\") # o"
   ]
  },
  {
   "cell_type": "markdown",
   "id": "0a959078",
   "metadata": {},
   "source": [
    "### Numbers with loop\n",
    "* `range(start, end, step)`"
   ]
  },
  {
   "cell_type": "markdown",
   "id": "c88fa552",
   "metadata": {},
   "source": [
    "* Ye Python me ek built-in function hai jo ek sequence of numbers generate karta hai. Ye sequence iterable hota hai, matlab aap isse loops me iterate kar sakte hain.\n",
    "\n",
    "#### ` range() Function `\n",
    "* range() function se aap sequential numbers ki list banate hain, jo iteration ke liye kaam aati hai. Ye bohot useful hota hai jab aapko ek certain range me loop chalani ho.\n",
    "\n",
    "`range(start, stop, step)`\n",
    "* start (optional): Sequence ka starting point hai. Default value 0 hai.\n",
    "* stop (required): Sequence ka end point hai. Ye exclusive hai, matlab ye value include nahi hoti.\n",
    "* step (optional): Sequence ke beech ke gap ko specify karta hai. Default value 1 hai."
   ]
  },
  {
   "cell_type": "code",
   "execution_count": null,
   "id": "408fd2d4",
   "metadata": {},
   "outputs": [],
   "source": [
    "range(10)"
   ]
  },
  {
   "cell_type": "code",
   "execution_count": null,
   "id": "2e2edaaa",
   "metadata": {},
   "outputs": [],
   "source": [
    "list(range(10)) # starting = 0"
   ]
  },
  {
   "cell_type": "code",
   "execution_count": null,
   "id": "456e8cc9",
   "metadata": {},
   "outputs": [],
   "source": [
    "list(range(2, 10)) # starting = 0, ending = n-1"
   ]
  },
  {
   "cell_type": "code",
   "execution_count": null,
   "id": "00ef1a39",
   "metadata": {},
   "outputs": [],
   "source": [
    "list(range(2, 21, 2)) # start se stop - 1 tak step increment"
   ]
  },
  {
   "cell_type": "code",
   "execution_count": null,
   "id": "62f8c76a",
   "metadata": {},
   "outputs": [],
   "source": [
    "# for n in range(2, 21, 2):\n",
    "#     print(f\"2 X {round(n/2)} = {n}\")\n",
    "    \n",
    "    # -------------------\n",
    "    \n",
    "for x in range(1, 11, 2):\n",
    "    print(f\"2 X {x} = {x * 2}\")\n",
    "    "
   ]
  },
  {
   "cell_type": "code",
   "execution_count": null,
   "id": "a6ef4bcd",
   "metadata": {},
   "outputs": [],
   "source": [
    "teachers : list[str] = ['Sir Zia', 'Sir Qasim', 'Dr Noman']\n",
    "\n",
    "for i in range(len(teachers)):\n",
    "    print(f\"Index {i}: {teachers[i]}\")\n"
   ]
  },
  {
   "cell_type": "code",
   "execution_count": null,
   "id": "bd13ea37",
   "metadata": {},
   "outputs": [],
   "source": [
    "#                           0          1            2 \n",
    "teachers : list[str] = ['Sir Zia', 'Sir Qasim', 'Dr Noman']\n",
    "\n",
    "for index, name in enumerate(teachers):\n",
    "    print(index, name)"
   ]
  },
  {
   "cell_type": "code",
   "execution_count": null,
   "id": "eeeaad44",
   "metadata": {},
   "outputs": [],
   "source": [
    "squares : list[int] = []\n",
    "\n",
    "for value in range(1, 11):\n",
    "    square = value ** 2\n",
    "    squares.append(square)\n",
    "print(squares)"
   ]
  },
  {
   "cell_type": "markdown",
   "id": "e04817dd",
   "metadata": {},
   "source": [
    "### List Comprehensive\n",
    "\n",
    "### Normal Loop\n",
    "```\n",
    "for item in item_list:\n",
    "    loop_body\n",
    "```\n",
    "\n",
    "### Comprehensive Style\n",
    "```\n",
    "[loop_body for item in item_list]\n",
    "```"
   ]
  },
  {
   "cell_type": "code",
   "execution_count": null,
   "id": "92f1147c",
   "metadata": {},
   "outputs": [],
   "source": [
    "list(range(1,11))"
   ]
  },
  {
   "cell_type": "code",
   "execution_count": null,
   "id": "b11c7b97",
   "metadata": {},
   "outputs": [],
   "source": [
    "# normal list\n",
    "# for i in range(1,11):\n",
    "#     print(i**2)\n",
    "    \n",
    "\n",
    "    # ------------\n",
    "   \n",
    "   \n",
    " # comprehensive list\n",
    "    \n",
    "print([i**2 for i in range(1,11)])\n",
    "    "
   ]
  },
  {
   "cell_type": "code",
   "execution_count": 1,
   "id": "4fc8b4be",
   "metadata": {},
   "outputs": [
    {
     "name": "stdout",
     "output_type": "stream",
     "text": [
      "[1, 2, 3, 4, 5, 6, 7, 8, 9, 10]\n",
      "10\n",
      "1\n",
      "55\n"
     ]
    }
   ],
   "source": [
    "digits : list[int] = [1, 2, 3, 4, 5, 6, 7, 8, 9, 10]\n",
    "\n",
    "print(digits)\n",
    "print(max(digits))\n",
    "print(min(digits))\n",
    "print(sum(digits))\n"
   ]
  },
  {
   "cell_type": "code",
   "execution_count": 2,
   "id": "1e68edb7",
   "metadata": {},
   "outputs": [
    {
     "name": "stdout",
     "output_type": "stream",
     "text": [
      "['pizza', 'falafel', 'carrot cake']\n",
      "['pizza', 'falafel', 'carrot cake']\n",
      "['pizza', 'falafel', 'carrot cake']\n",
      "['Tikka', 'falafel', 'carrot cake']\n"
     ]
    }
   ],
   "source": [
    "my_foods = ['pizza', 'falafel', 'carrot cake']\n",
    "friend_food = my_foods[:] # deep copy\n",
    "\n",
    "print(my_foods)\n",
    "print(friend_food)\n",
    "\n",
    "friend_food[0] = \"Tikka\"\n",
    "\n",
    "print(my_foods)\n",
    "print(friend_food)\n",
    " "
   ]
  }
 ],
 "metadata": {
  "kernelspec": {
   "display_name": "Python 3 (ipykernel)",
   "language": "python",
   "name": "python3"
  },
  "language_info": {
   "codemirror_mode": {
    "name": "ipython",
    "version": 3
   },
   "file_extension": ".py",
   "mimetype": "text/x-python",
   "name": "python",
   "nbconvert_exporter": "python",
   "pygments_lexer": "ipython3",
   "version": "3.12.4"
  }
 },
 "nbformat": 4,
 "nbformat_minor": 5
}
