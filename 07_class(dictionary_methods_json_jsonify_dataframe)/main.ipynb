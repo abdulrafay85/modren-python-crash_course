{
 "cells": [
  {
   "cell_type": "code",
   "execution_count": null,
   "metadata": {},
   "outputs": [],
   "source": [
    "# methods : list[str] = {n for n in dir(data) if \"__\" not in n}\n",
    "# print(methods)"
   ]
  },
  {
   "cell_type": "code",
   "execution_count": null,
   "metadata": {},
   "outputs": [],
   "source": [
    "from typing import Union\n",
    "\n",
    "Key = Union[int, str, tuple]\n",
    "Value = Union[int, str, list, dict, tuple, set]\n",
    "\n",
    "keys = [\"name\", \"age\", \"education\"]\n",
    "\n",
    "data : dict[Key,Value] = {}\n",
    "\n",
    "\n",
    "print(data.get(\"name\"))\n",
    "x = data.fromkeys(keys, \"not available\")\n",
    "print(x)"
   ]
  },
  {
   "cell_type": "code",
   "execution_count": null,
   "metadata": {},
   "outputs": [],
   "source": [
    "from typing import Union\n",
    "\n",
    "Key = Union[int, str, tuple]\n",
    "Value = Union[int, str, list, dict, tuple, set]\n",
    "\n",
    "\n",
    "data : dict[Key,Value] = {\n",
    "    'name' : 'Rafay',\n",
    "    'age' : 19,\n",
    "    'education': 'intermediat'\n",
    "}\n",
    "\n",
    "\n",
    "\n",
    "\n",
    "# print(data.get(\"name\"))\n",
    "# print(data.keys())\n",
    "# print(data.values())\n",
    "print(data.items())\n"
   ]
  },
  {
   "cell_type": "code",
   "execution_count": null,
   "metadata": {},
   "outputs": [],
   "source": [
    "from typing import Union\n",
    "\n",
    "Key = Union[int, str, tuple]\n",
    "Value = Union[int, str, list, dict, tuple, set]\n",
    "\n",
    "\n",
    "data : dict[Key,Value] = {\n",
    "    'name' : 'Rafay',\n",
    "    'age' : 19,\n",
    "    'education': 'intermediat'\n",
    "}\n",
    "\n",
    " \n",
    "\n",
    "for key, value in data.items():\n",
    "    print(key, value)\n",
    "\n",
    "## Shufle\n",
    "# for value, key  in data.items():\n",
    "#     print(key, value)\n",
    "\n",
    "\n",
    "methods : dict[str] = {n for n in dir(data) if \"__\" not in n}\n",
    "print(methods)"
   ]
  },
  {
   "cell_type": "code",
   "execution_count": null,
   "metadata": {},
   "outputs": [],
   "source": [
    "from typing import Dict , Tuple, Union, List\n",
    "\n",
    "\n",
    "Key = Union[int, str]  # create custom type\n",
    "Value = Union[int, str, List, Dict, Tuple]\n",
    "    \n",
    "data : Dict[Key, Value] = {\n",
    "                         \"fName\":\"Muhammad Aslan\", \n",
    "                         \"name\":\"Muhammad Qasim\", \n",
    "                         \"education\":\"MSDS\",\n",
    "                         \"list\": [1,2,3],\n",
    "                         \"dict\": {'1':\"hello\"},\n",
    "                         \"tuple\": [(123, 456), ('123', '456')],\n",
    "                         \"set\": (123, 456),\n",
    "           \n",
    "                         }\n",
    "print(\"Before\", data)\n",
    "del(data)\n",
    "print(\"After\", data)\n"
   ]
  },
  {
   "cell_type": "code",
   "execution_count": null,
   "metadata": {},
   "outputs": [],
   "source": [
    "from typing import Dict , Tuple, Union, List\n",
    "\n",
    "\n",
    "Key = Union[int, str]  # create custom type\n",
    "Value = Union[int, str, List, Dict, Tuple]\n",
    "    \n",
    "data : Dict[Key, Value] = {\n",
    "                         \"fName\":\"Muhammad Aslan\", \n",
    "                         \"name\":\"Muhammad Qasim\", \n",
    "                         \"education\":\"MSDS\",\n",
    "                         \"list\": [1,2,3],\n",
    "                         \"dict\": {'1':\"hello\"},\n",
    "                         \"tuple\": [(123, 456), ('123', '456')],\n",
    "                         \"set\": (123, 456),\n",
    "           \n",
    "                         }\n",
    "print(\"Before\", data)\n",
    "data.clear()\n",
    "print(\"After\", data)\n"
   ]
  },
  {
   "cell_type": "markdown",
   "metadata": {},
   "source": [
    "#### pop() Method\n",
    "* Purpose: pop() method dictionary se ek specific key aur uski value ko remove karta hai aur wo value return karta hai.\n",
    "\n",
    "`dict.pop(key, default)\n",
    "`\n",
    "* key: Woh key jise aap remove karna chahte hain.\n",
    "\n",
    "* default (optional): Agar key dictionary mein nahi hai to default value return karta hai. Agar default value nahi di, to KeyError raise hota hai."
   ]
  },
  {
   "cell_type": "code",
   "execution_count": null,
   "metadata": {},
   "outputs": [],
   "source": [
    "from typing import Dict , Tuple, Union, List\n",
    "\n",
    "\n",
    "Key = Union[int, str]  # create custom type\n",
    "Value = Union[int, str, List, Dict, Tuple]\n",
    "    \n",
    "data : Dict[Key, Value] = {\n",
    "                         \"fName\":\"Muhammad Aslan\", \n",
    "                         \"name\":\"Muhammad Qasim\", \n",
    "                         \"education\":\"MSDS\",\n",
    "                         \"list\": [1,2,3],\n",
    "                         \"dict\": {'1':\"hello\"},\n",
    "                         \"tuple\": [(123, 456), ('123', '456')],\n",
    "                         \"set\": (123, 456),\n",
    "           \n",
    "                         }\n",
    "print(\"Before\", data)\n",
    "a: str = data.pop(\"set\")  # dict ke last me say element ko remove karta hay \n",
    "print(\"After\", a)\n",
    "print(data)\n"
   ]
  },
  {
   "cell_type": "markdown",
   "metadata": {},
   "source": [
    "### popitem() Method\n",
    "* Purpose: popitem() method dictionary se ek arbitrary (random) key-value pair remove karta hai aur wo pair return karta hai. Python 3.7+ mein, popitem() method last inserted item ko remove karta hai, kyunki dictionaries are ordered in Python 3.7+.\n",
    "\n",
    "`dict.popitem()\n",
    "`\n",
    "* No arguments: popitem() method bina kisi argument ke call kiya jata hai.  "
   ]
  },
  {
   "cell_type": "code",
   "execution_count": null,
   "metadata": {},
   "outputs": [],
   "source": []
  },
  {
   "cell_type": "markdown",
   "metadata": {},
   "source": [
    "### dict.get() Method\n",
    "* Purpose: Dictionary mein se ek specific key ki value ko retrieve karta hai aur agar key nahi milti to ek default value return karta hai.\n",
    "\n",
    "      `dict.get(key, default=None)`\n",
    "      \n",
    " * key: Dictionary me jis key ki value aapko chahiye.\n",
    " * default (optional): Agar key dictionary mein nahi hoti, to ye value return ki jati hai. Agar\n",
    " * default specify nahi kiya, to None return hota hai."
   ]
  },
  {
   "cell_type": "code",
   "execution_count": null,
   "metadata": {},
   "outputs": [],
   "source": [
    "from typing import Dict , Tuple, Union, List\n",
    "\n",
    "\n",
    "Key = Union[int, str]  # create custom type\n",
    "Value = Union[int, str, List, Dict, Tuple]\n",
    "    \n",
    "data : Dict[Key, Value] = {\n",
    "                         \"fName\":\"Muhammad Aslan\", \n",
    "                         \"name\":\"Muhammad Qasim\", \n",
    "                         \"education\":\"MSDS\",\n",
    "                         \"list\": [1,2,3],\n",
    "                         \"dict\": {'1':\"hello\"},\n",
    "                         \"tuple\": [(123, 456), ('123', '456')],\n",
    "                         \"set\": (123, 456),\n",
    "           \n",
    "                         }\n",
    "print(\"Before\", data)\n",
    "a: str = data.get(\"list\")  # dict ke last me say element ko remove karta hay \n",
    "print(a)\n",
    "print(\"After\", data)\n"
   ]
  },
  {
   "cell_type": "markdown",
   "metadata": {},
   "source": [
    "* Python mein dict.setdefault() method dictionary mein ek key-value pair ko set karne aur retrieve karne ke liye use hota hai. Agar dictionary mein specified key pehle se exist karti hai, to ye method us key ki existing value ko return karta hai. \n",
    "\n",
    "* Agar key dictionary mein nahi hoti, to ye method key ko specified default value ke saath set karta hai aur us default value ko return karta hai.\n",
    "\n",
    "### dict.setdefault() Method\n",
    "\n",
    "* Purpose: Dictionary mein ek key ko default value ke saath set karta hai agar wo key already exist nahi karti. Agar key pehle se exist karti hai, to uski existing value ko return karta hai.\n",
    "\n",
    "`dict.setdefault(key, default=None)`\n",
    "\n",
    "* key: Wo key jisko aap dictionary mein set karna chahte hain.\n",
    "\n",
    "* default (optional): Agar key dictionary mein nahi hoti, to ye default value set ki jati hai aur return ki jati hai. Agar default specify nahi kiya, to None use hota hai.\n",
    "\n",
    "* How it Works:\n",
    "  When Key Exists:\n",
    "\n",
    " * Agar key already exists in the dictionary, setdefault() method us key ki existing value ko return karta hai. Dictionary mein koi change nahi hota.\n",
    "\n",
    "* When Key Does Not Exist:\n",
    "  * Agar key dictionary mein nahi hoti, to default value dictionary mein key ke saath set ki jati  hai aur default value ko return kiya jata hai."
   ]
  },
  {
   "cell_type": "code",
   "execution_count": 1,
   "metadata": {},
   "outputs": [
    {
     "name": "stdout",
     "output_type": "stream",
     "text": [
      "Before {'fName': 'Muhammad Aslan', 'name': 'Muhammad Qasim', 'education': 'MSDS', 'list': [1, 2, 3], 'dict': {'1': 'hello'}, 'tuple': [(123, 456), ('123', '456')], 'set': (123, 456)}\n",
      "{'state': ['sindh', 'balochistan', 'punjab', 'khayber pakhtonkhwa']}\n",
      "After ['khayber pakhtonkhwa', 'punjab', 'balochistan']\n"
     ]
    }
   ],
   "source": [
    "from typing import Dict , Tuple, Union, List\n",
    "\n",
    "\n",
    "Key = Union[int, str]  # create custom type\n",
    "Value = Union[int, str, List, Dict, Tuple]\n",
    "    \n",
    "data : Dict[Key, Value] = {\n",
    "                         \"fName\":\"Muhammad Aslan\", \n",
    "                         \"name\":\"Muhammad Qasim\", \n",
    "                         \"education\":\"MSDS\",\n",
    "                         \"list\": [1,2,3],\n",
    "                         \"dict\": {'1':\"hello\"},\n",
    "                         \"tuple\": [(123, 456), ('123', '456')],\n",
    "                         \"set\": (123, 456),\n",
    "           \n",
    "                         }\n",
    "print(\"Before\", data)\n",
    "a: str = data.setdefault(\"pakistan\", {'state':['sindh', 'balochistan', 'punjab', 'khayber pakhtonkhwa']})  # dict ke last me say element ko remove karta hay \n",
    "print(a)\n",
    "print(\"After\", data['pakistan']['state'][-1:-4:-1])\n"
   ]
  },
  {
   "cell_type": "markdown",
   "metadata": {},
   "source": [
    "* Python mein dict.update() method dictionary ko update karne ke liye use hota hai. Yeh method ek   existing dictionary ko modify karta hai ya merge karta hai naye key-value pairs ke saath.\n",
    "\n",
    "* dict.update() Method\n",
    "Purpose: Dictionary mein naye key-value pairs ko add karna ya existing keys ki values ko update karna.\n",
    "\n",
    "* Syntax:\n",
    "\n",
    "```\n",
    "\n",
    " dict.update(other_dict)\n",
    "\n",
    " dict.update(iterable_of_key_value_pairs)\n",
    " \n",
    " dict.update(key1=value1, key2=value2, ...)\n",
    "\n",
    "```\n",
    "\n",
    "* other_dict: Ek aur dictionary jisko merge kiya jayega current dictionary ke saath.\n",
    "iterable_of_key_value_pairs: Key-value pairs ka iterable jo dictionary mein add kiye jayenge.\n",
    "\n",
    "* key1=value1, key2=value2, ...: Direct key-value pairs jo current dictionary mein add ya update kiye jayenge."
   ]
  },
  {
   "cell_type": "code",
   "execution_count": null,
   "metadata": {},
   "outputs": [],
   "source": [
    "Key = Union[int, str]  # create custom type\n",
    "Value = Union[int, str, List, Dict, Tuple]\n",
    "    \n",
    "data : Dict[Key, Value] = {\n",
    "                         \"fName\":\"Muhammad Aslan\", \n",
    "                         \"name\":\"Muhammad Qasim\", \n",
    "                         \"education\":\"MSDS\",\n",
    "                         }\n",
    "\n",
    "data1 : Dict[Key, Value] = {\n",
    "                            \"fName\":\"maqbool\", \n",
    "                            \"name\":\"abdul rafay\", \n",
    "                            \"education\":\"intermediet\",\n",
    "                           }\n",
    "\n",
    "print('before', data)\n",
    "data.update(data1)\n",
    "print('after', data)\n"
   ]
  },
  {
   "cell_type": "code",
   "execution_count": null,
   "metadata": {},
   "outputs": [],
   "source": [
    "import pandas as pd\n",
    "from typing import Any\n",
    "import pprint\n",
    "\n",
    "student_data :Dict[str, list[Any]] = {\n",
    "    \"roll no\": [1, 2, 3],\n",
    "    \"name\": [\"sir zia\", \"inam\", \"muhammad qasim\"],\n",
    "    \"education\": [\"abc\", \"abc\", \"abc\"]\n",
    "}\n",
    "\n",
    "df : pd.DataFrame = pd.DataFrame(student_data)\n",
    "df"
   ]
  },
  {
   "cell_type": "code",
   "execution_count": null,
   "metadata": {},
   "outputs": [],
   "source": [
    "alien_0 = {'x_position': 0, 'y_position': 25, 'speed': 'medium'}\n",
    "\n",
    "print(f\"Original position: {alien_0['x_position']}\")\n",
    "\n",
    "# Move the alien to the right.\n",
    "# Determine how far to move the alien based on its current speed.\n",
    "\n",
    "if alien_0['speed'] == 'slow':\n",
    "    x_increment = 1\n",
    "\n",
    "elif alien_0['speed'] == 'medium':\n",
    "    x_increment = 2\n",
    "\n",
    "else:\n",
    "    # This must be a fast alien.\n",
    "    x_increment = 3\n",
    "\n",
    "# The new position is the old position plus the increment.\n",
    "alien_0['x_position'] += x_increment\n",
    "\n",
    "print(f\"New position: {alien_0['x_position']}\")"
   ]
  },
  {
   "cell_type": "code",
   "execution_count": null,
   "metadata": {},
   "outputs": [],
   "source": [
    "from typing import Dict\n",
    "favorite_lanuages : Dict[str, str] = {\n",
    "    'jen': 'python',\n",
    "    'sarah': 'c',\n",
    "    'edward': 'rust',\n",
    "    'phil': 'python'\n",
    "}\n",
    "\n",
    "friends = ['phil', 'sarah']\n",
    "for name in favorite_lanuages.keys():\n",
    "    print(f\"Hi {name.title()}\")\n",
    "    if name in friends:\n",
    "        language = favorite_lanuages[name].title()\n",
    "        print(f\"\\t{name.title()}, I see you love {language}\")"
   ]
  },
  {
   "cell_type": "code",
   "execution_count": null,
   "metadata": {},
   "outputs": [],
   "source": [
    "favorite_languages = {\n",
    " 'jen': 'python',\n",
    " 'sarah': 'c',\n",
    " 'edward': 'ruby',\n",
    " 'phil': 'python',\n",
    " }"
   ]
  },
  {
   "cell_type": "code",
   "execution_count": null,
   "metadata": {},
   "outputs": [],
   "source": [
    "'erin' not in favorite_languages.keys()\n",
    "print(favorite_languages.keys())"
   ]
  },
  {
   "cell_type": "code",
   "execution_count": null,
   "metadata": {},
   "outputs": [],
   "source": [
    "\"qasim\" in \"\"\"my name is qasim, i working as chief data scientist\"\"\""
   ]
  },
  {
   "cell_type": "code",
   "execution_count": null,
   "metadata": {},
   "outputs": [],
   "source": [
    "\n",
    "if 'erin' not in favorite_languages.keys():\n",
    "    print(\"Erin, please take our poll!\")"
   ]
  },
  {
   "cell_type": "code",
   "execution_count": null,
   "metadata": {},
   "outputs": [],
   "source": [
    "alien_0 = {'color': 'green', 'points': 5}\n",
    "alien_1 = {'color': 'yellow', 'points': 10}\n",
    "alien_2 = {'color': 'red', 'points': 15}\n",
    "aliens = [alien_0, alien_1, alien_2]\n",
    "for alien in aliens:\n",
    " print(alien)"
   ]
  },
  {
   "cell_type": "code",
   "execution_count": null,
   "metadata": {},
   "outputs": [],
   "source": [
    "import pprint\n",
    "# Make an empty list for storing aliens.\n",
    "aliens:list[Dict[str, str]] = []\n",
    "\n",
    "# Make 30 green aliens.\n",
    "for alien_number in range(30):\n",
    "    new_alien = {'color': 'green', 'points': 5, 'speed': 'slow'}\n",
    "    aliens.append(new_alien)\n",
    "pprint.pprint(aliens)\n",
    "\n",
    "# Show the first 5 aliens.\n",
    "for alien in aliens[:5]:\n",
    "    print(alien)\n",
    "print(\"...\")\n",
    "# Show how many aliens have been created.\n",
    "print(f\"Total number of aliens: {len(aliens)}\")"
   ]
  },
  {
   "cell_type": "code",
   "execution_count": null,
   "metadata": {},
   "outputs": [],
   "source": [
    "for alien in aliens[:3]:\n",
    " if alien['color'] == 'green':\n",
    "    alien['color'] = 'yellow'\n",
    "    alien['speed'] = 'medium'\n",
    "    alien['points'] = 10\n",
    "pprint.pprint(alien)"
   ]
  },
  {
   "cell_type": "code",
   "execution_count": null,
   "metadata": {},
   "outputs": [],
   "source": [
    "for alien in aliens[0:3]:\n",
    "    if alien['color'] == 'green':\n",
    "        alien['color'] = 'yellow'\n",
    "        alien['speed'] = 'medium'\n",
    "        alien['points'] = 10\n",
    "    elif alien['color'] == 'yellow':\n",
    "        alien['color'] = 'red'\n",
    "        alien['speed'] = 'fast'\n",
    "        alien['points'] = 15\n",
    "# It’s common to store a numb\n",
    "pprint.pprint(aliens)"
   ]
  },
  {
   "cell_type": "code",
   "execution_count": null,
   "metadata": {},
   "outputs": [],
   "source": [
    "from typing import Union, Dict, List \n",
    "\n",
    "Key = Union[int, str]\n",
    "Value = Union[int, str, List, Dict]\n",
    "\n",
    "user_data : Dict[Key, Value] = {\n",
    "    'name': 'rafay',\n",
    "    'age': 19,\n",
    "    'education': 'intermediate'\n",
    "}\n",
    "\n",
    "print(type(user_data))\n"
   ]
  },
  {
   "cell_type": "code",
   "execution_count": null,
   "metadata": {},
   "outputs": [],
   "source": [
    "import json\n",
    "\n",
    "json_data = json.dumps(user_data)\n",
    "\n",
    "print((json_data))"
   ]
  }
 ],
 "metadata": {
  "kernelspec": {
   "display_name": "Python 3",
   "language": "python",
   "name": "python3"
  },
  "language_info": {
   "codemirror_mode": {
    "name": "ipython",
    "version": 3
   },
   "file_extension": ".py",
   "mimetype": "text/x-python",
   "name": "python",
   "nbconvert_exporter": "python",
   "pygments_lexer": "ipython3",
   "version": "3.12.4"
  }
 },
 "nbformat": 4,
 "nbformat_minor": 2
}
